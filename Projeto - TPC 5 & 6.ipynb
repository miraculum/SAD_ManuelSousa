{
  "nbformat": 4,
  "nbformat_minor": 0,
  "metadata": {
    "colab": {
      "name": "Trabalho.ipynb",
      "version": "0.3.2",
      "provenance": [],
      "collapsed_sections": []
    },
    "kernelspec": {
      "name": "python2",
      "display_name": "Python 2"
    }
  },
  "cells": [
    {
      "metadata": {
        "id": "3QRNgluoirxE",
        "colab_type": "text"
      },
      "cell_type": "markdown",
      "source": [
        "-\n",
        "-\n",
        "**- PROJETO DE SAD**\n",
        "\n",
        "  Fabio Lopes : 20160449\n",
        "  \n",
        "  Luis Godinho: 20160416\n",
        "  \n",
        "  Manuel Sousa: 20160417\n",
        "\n",
        "-\n",
        "-\n",
        "--\n"
      ]
    },
    {
      "metadata": {
        "id": "mayDdgVqlk4f",
        "colab_type": "code",
        "outputId": "1da22257-cc81-40a0-cee8-1562497f35d7",
        "colab": {
          "resources": {
            "http://localhost:8080/nbextensions/google.colab/files.js": {
              "data": "Ly8gQ29weXJpZ2h0IDIwMTcgR29vZ2xlIExMQwovLwovLyBMaWNlbnNlZCB1bmRlciB0aGUgQXBhY2hlIExpY2Vuc2UsIFZlcnNpb24gMi4wICh0aGUgIkxpY2Vuc2UiKTsKLy8geW91IG1heSBub3QgdXNlIHRoaXMgZmlsZSBleGNlcHQgaW4gY29tcGxpYW5jZSB3aXRoIHRoZSBMaWNlbnNlLgovLyBZb3UgbWF5IG9idGFpbiBhIGNvcHkgb2YgdGhlIExpY2Vuc2UgYXQKLy8KLy8gICAgICBodHRwOi8vd3d3LmFwYWNoZS5vcmcvbGljZW5zZXMvTElDRU5TRS0yLjAKLy8KLy8gVW5sZXNzIHJlcXVpcmVkIGJ5IGFwcGxpY2FibGUgbGF3IG9yIGFncmVlZCB0byBpbiB3cml0aW5nLCBzb2Z0d2FyZQovLyBkaXN0cmlidXRlZCB1bmRlciB0aGUgTGljZW5zZSBpcyBkaXN0cmlidXRlZCBvbiBhbiAiQVMgSVMiIEJBU0lTLAovLyBXSVRIT1VUIFdBUlJBTlRJRVMgT1IgQ09ORElUSU9OUyBPRiBBTlkgS0lORCwgZWl0aGVyIGV4cHJlc3Mgb3IgaW1wbGllZC4KLy8gU2VlIHRoZSBMaWNlbnNlIGZvciB0aGUgc3BlY2lmaWMgbGFuZ3VhZ2UgZ292ZXJuaW5nIHBlcm1pc3Npb25zIGFuZAovLyBsaW1pdGF0aW9ucyB1bmRlciB0aGUgTGljZW5zZS4KCi8qKgogKiBAZmlsZW92ZXJ2aWV3IEhlbHBlcnMgZm9yIGdvb2dsZS5jb2xhYiBQeXRob24gbW9kdWxlLgogKi8KKGZ1bmN0aW9uKHNjb3BlKSB7CmZ1bmN0aW9uIHNwYW4odGV4dCwgc3R5bGVBdHRyaWJ1dGVzID0ge30pIHsKICBjb25zdCBlbGVtZW50ID0gZG9jdW1lbnQuY3JlYXRlRWxlbWVudCgnc3BhbicpOwogIGVsZW1lbnQudGV4dENvbnRlbnQgPSB0ZXh0OwogIGZvciAoY29uc3Qga2V5IG9mIE9iamVjdC5rZXlzKHN0eWxlQXR0cmlidXRlcykpIHsKICAgIGVsZW1lbnQuc3R5bGVba2V5XSA9IHN0eWxlQXR0cmlidXRlc1trZXldOwogIH0KICByZXR1cm4gZWxlbWVudDsKfQoKLy8gTWF4IG51bWJlciBvZiBieXRlcyB3aGljaCB3aWxsIGJlIHVwbG9hZGVkIGF0IGEgdGltZS4KY29uc3QgTUFYX1BBWUxPQURfU0laRSA9IDEwMCAqIDEwMjQ7Ci8vIE1heCBhbW91bnQgb2YgdGltZSB0byBibG9jayB3YWl0aW5nIGZvciB0aGUgdXNlci4KY29uc3QgRklMRV9DSEFOR0VfVElNRU9VVF9NUyA9IDMwICogMTAwMDsKCmZ1bmN0aW9uIF91cGxvYWRGaWxlcyhpbnB1dElkLCBvdXRwdXRJZCkgewogIGNvbnN0IHN0ZXBzID0gdXBsb2FkRmlsZXNTdGVwKGlucHV0SWQsIG91dHB1dElkKTsKICBjb25zdCBvdXRwdXRFbGVtZW50ID0gZG9jdW1lbnQuZ2V0RWxlbWVudEJ5SWQob3V0cHV0SWQpOwogIC8vIENhY2hlIHN0ZXBzIG9uIHRoZSBvdXRwdXRFbGVtZW50IHRvIG1ha2UgaXQgYXZhaWxhYmxlIGZvciB0aGUgbmV4dCBjYWxsCiAgLy8gdG8gdXBsb2FkRmlsZXNDb250aW51ZSBmcm9tIFB5dGhvbi4KICBvdXRwdXRFbGVtZW50LnN0ZXBzID0gc3RlcHM7CgogIHJldHVybiBfdXBsb2FkRmlsZXNDb250aW51ZShvdXRwdXRJZCk7Cn0KCi8vIFRoaXMgaXMgcm91Z2hseSBhbiBhc3luYyBnZW5lcmF0b3IgKG5vdCBzdXBwb3J0ZWQgaW4gdGhlIGJyb3dzZXIgeWV0KSwKLy8gd2hlcmUgdGhlcmUgYXJlIG11bHRpcGxlIGFzeW5jaHJvbm91cyBzdGVwcyBhbmQgdGhlIFB5dGhvbiBzaWRlIGlzIGdvaW5nCi8vIHRvIHBvbGwgZm9yIGNvbXBsZXRpb24gb2YgZWFjaCBzdGVwLgovLyBUaGlzIHVzZXMgYSBQcm9taXNlIHRvIGJsb2NrIHRoZSBweXRob24gc2lkZSBvbiBjb21wbGV0aW9uIG9mIGVhY2ggc3RlcCwKLy8gdGhlbiBwYXNzZXMgdGhlIHJlc3VsdCBvZiB0aGUgcHJldmlvdXMgc3RlcCBhcyB0aGUgaW5wdXQgdG8gdGhlIG5leHQgc3RlcC4KZnVuY3Rpb24gX3VwbG9hZEZpbGVzQ29udGludWUob3V0cHV0SWQpIHsKICBjb25zdCBvdXRwdXRFbGVtZW50ID0gZG9jdW1lbnQuZ2V0RWxlbWVudEJ5SWQob3V0cHV0SWQpOwogIGNvbnN0IHN0ZXBzID0gb3V0cHV0RWxlbWVudC5zdGVwczsKCiAgY29uc3QgbmV4dCA9IHN0ZXBzLm5leHQob3V0cHV0RWxlbWVudC5sYXN0UHJvbWlzZVZhbHVlKTsKICByZXR1cm4gUHJvbWlzZS5yZXNvbHZlKG5leHQudmFsdWUucHJvbWlzZSkudGhlbigodmFsdWUpID0+IHsKICAgIC8vIENhY2hlIHRoZSBsYXN0IHByb21pc2UgdmFsdWUgdG8gbWFrZSBpdCBhdmFpbGFibGUgdG8gdGhlIG5leHQKICAgIC8vIHN0ZXAgb2YgdGhlIGdlbmVyYXRvci4KICAgIG91dHB1dEVsZW1lbnQubGFzdFByb21pc2VWYWx1ZSA9IHZhbHVlOwogICAgcmV0dXJuIG5leHQudmFsdWUucmVzcG9uc2U7CiAgfSk7Cn0KCi8qKgogKiBHZW5lcmF0b3IgZnVuY3Rpb24gd2hpY2ggaXMgY2FsbGVkIGJldHdlZW4gZWFjaCBhc3luYyBzdGVwIG9mIHRoZSB1cGxvYWQKICogcHJvY2Vzcy4KICogQHBhcmFtIHtzdHJpbmd9IGlucHV0SWQgRWxlbWVudCBJRCBvZiB0aGUgaW5wdXQgZmlsZSBwaWNrZXIgZWxlbWVudC4KICogQHBhcmFtIHtzdHJpbmd9IG91dHB1dElkIEVsZW1lbnQgSUQgb2YgdGhlIG91dHB1dCBkaXNwbGF5LgogKiBAcmV0dXJuIHshSXRlcmFibGU8IU9iamVjdD59IEl0ZXJhYmxlIG9mIG5leHQgc3RlcHMuCiAqLwpmdW5jdGlvbiogdXBsb2FkRmlsZXNTdGVwKGlucHV0SWQsIG91dHB1dElkKSB7CiAgY29uc3QgaW5wdXRFbGVtZW50ID0gZG9jdW1lbnQuZ2V0RWxlbWVudEJ5SWQoaW5wdXRJZCk7CiAgaW5wdXRFbGVtZW50LmRpc2FibGVkID0gZmFsc2U7CgogIGNvbnN0IG91dHB1dEVsZW1lbnQgPSBkb2N1bWVudC5nZXRFbGVtZW50QnlJZChvdXRwdXRJZCk7CiAgb3V0cHV0RWxlbWVudC5pbm5lckhUTUwgPSAnJzsKCiAgY29uc3QgcGlja2VkUHJvbWlzZSA9IG5ldyBQcm9taXNlKChyZXNvbHZlKSA9PiB7CiAgICBpbnB1dEVsZW1lbnQuYWRkRXZlbnRMaXN0ZW5lcignY2hhbmdlJywgKGUpID0+IHsKICAgICAgcmVzb2x2ZShlLnRhcmdldC5maWxlcyk7CiAgICB9KTsKICB9KTsKCiAgY29uc3QgY2FuY2VsID0gZG9jdW1lbnQuY3JlYXRlRWxlbWVudCgnYnV0dG9uJyk7CiAgaW5wdXRFbGVtZW50LnBhcmVudEVsZW1lbnQuYXBwZW5kQ2hpbGQoY2FuY2VsKTsKICBjYW5jZWwudGV4dENvbnRlbnQgPSAnQ2FuY2VsIHVwbG9hZCc7CiAgY29uc3QgY2FuY2VsUHJvbWlzZSA9IG5ldyBQcm9taXNlKChyZXNvbHZlKSA9PiB7CiAgICBjYW5jZWwub25jbGljayA9ICgpID0+IHsKICAgICAgcmVzb2x2ZShudWxsKTsKICAgIH07CiAgfSk7CgogIC8vIENhbmNlbCB1cGxvYWQgaWYgdXNlciBoYXNuJ3QgcGlja2VkIGFueXRoaW5nIGluIHRpbWVvdXQuCiAgY29uc3QgdGltZW91dFByb21pc2UgPSBuZXcgUHJvbWlzZSgocmVzb2x2ZSkgPT4gewogICAgc2V0VGltZW91dCgoKSA9PiB7CiAgICAgIHJlc29sdmUobnVsbCk7CiAgICB9LCBGSUxFX0NIQU5HRV9USU1FT1VUX01TKTsKICB9KTsKCiAgLy8gV2FpdCBmb3IgdGhlIHVzZXIgdG8gcGljayB0aGUgZmlsZXMuCiAgY29uc3QgZmlsZXMgPSB5aWVsZCB7CiAgICBwcm9taXNlOiBQcm9taXNlLnJhY2UoW3BpY2tlZFByb21pc2UsIHRpbWVvdXRQcm9taXNlLCBjYW5jZWxQcm9taXNlXSksCiAgICByZXNwb25zZTogewogICAgICBhY3Rpb246ICdzdGFydGluZycsCiAgICB9CiAgfTsKCiAgaWYgKCFmaWxlcykgewogICAgcmV0dXJuIHsKICAgICAgcmVzcG9uc2U6IHsKICAgICAgICBhY3Rpb246ICdjb21wbGV0ZScsCiAgICAgIH0KICAgIH07CiAgfQoKICBjYW5jZWwucmVtb3ZlKCk7CgogIC8vIERpc2FibGUgdGhlIGlucHV0IGVsZW1lbnQgc2luY2UgZnVydGhlciBwaWNrcyBhcmUgbm90IGFsbG93ZWQuCiAgaW5wdXRFbGVtZW50LmRpc2FibGVkID0gdHJ1ZTsKCiAgZm9yIChjb25zdCBmaWxlIG9mIGZpbGVzKSB7CiAgICBjb25zdCBsaSA9IGRvY3VtZW50LmNyZWF0ZUVsZW1lbnQoJ2xpJyk7CiAgICBsaS5hcHBlbmQoc3BhbihmaWxlLm5hbWUsIHtmb250V2VpZ2h0OiAnYm9sZCd9KSk7CiAgICBsaS5hcHBlbmQoc3BhbigKICAgICAgICBgKCR7ZmlsZS50eXBlIHx8ICduL2EnfSkgLSAke2ZpbGUuc2l6ZX0gYnl0ZXMsIGAgKwogICAgICAgIGBsYXN0IG1vZGlmaWVkOiAkewogICAgICAgICAgICBmaWxlLmxhc3RNb2RpZmllZERhdGUgPyBmaWxlLmxhc3RNb2RpZmllZERhdGUudG9Mb2NhbGVEYXRlU3RyaW5nKCkgOgogICAgICAgICAgICAgICAgICAgICAgICAgICAgICAgICAgICAnbi9hJ30gLSBgKSk7CiAgICBjb25zdCBwZXJjZW50ID0gc3BhbignMCUgZG9uZScpOwogICAgbGkuYXBwZW5kQ2hpbGQocGVyY2VudCk7CgogICAgb3V0cHV0RWxlbWVudC5hcHBlbmRDaGlsZChsaSk7CgogICAgY29uc3QgZmlsZURhdGFQcm9taXNlID0gbmV3IFByb21pc2UoKHJlc29sdmUpID0+IHsKICAgICAgY29uc3QgcmVhZGVyID0gbmV3IEZpbGVSZWFkZXIoKTsKICAgICAgcmVhZGVyLm9ubG9hZCA9IChlKSA9PiB7CiAgICAgICAgcmVzb2x2ZShlLnRhcmdldC5yZXN1bHQpOwogICAgICB9OwogICAgICByZWFkZXIucmVhZEFzQXJyYXlCdWZmZXIoZmlsZSk7CiAgICB9KTsKICAgIC8vIFdhaXQgZm9yIHRoZSBkYXRhIHRvIGJlIHJlYWR5LgogICAgbGV0IGZpbGVEYXRhID0geWllbGQgewogICAgICBwcm9taXNlOiBmaWxlRGF0YVByb21pc2UsCiAgICAgIHJlc3BvbnNlOiB7CiAgICAgICAgYWN0aW9uOiAnY29udGludWUnLAogICAgICB9CiAgICB9OwoKICAgIC8vIFVzZSBhIGNodW5rZWQgc2VuZGluZyB0byBhdm9pZCBtZXNzYWdlIHNpemUgbGltaXRzLiBTZWUgYi82MjExNTY2MC4KICAgIGxldCBwb3NpdGlvbiA9IDA7CiAgICB3aGlsZSAocG9zaXRpb24gPCBmaWxlRGF0YS5ieXRlTGVuZ3RoKSB7CiAgICAgIGNvbnN0IGxlbmd0aCA9IE1hdGgubWluKGZpbGVEYXRhLmJ5dGVMZW5ndGggLSBwb3NpdGlvbiwgTUFYX1BBWUxPQURfU0laRSk7CiAgICAgIGNvbnN0IGNodW5rID0gbmV3IFVpbnQ4QXJyYXkoZmlsZURhdGEsIHBvc2l0aW9uLCBsZW5ndGgpOwogICAgICBwb3NpdGlvbiArPSBsZW5ndGg7CgogICAgICBjb25zdCBiYXNlNjQgPSBidG9hKFN0cmluZy5mcm9tQ2hhckNvZGUuYXBwbHkobnVsbCwgY2h1bmspKTsKICAgICAgeWllbGQgewogICAgICAgIHJlc3BvbnNlOiB7CiAgICAgICAgICBhY3Rpb246ICdhcHBlbmQnLAogICAgICAgICAgZmlsZTogZmlsZS5uYW1lLAogICAgICAgICAgZGF0YTogYmFzZTY0LAogICAgICAgIH0sCiAgICAgIH07CiAgICAgIHBlcmNlbnQudGV4dENvbnRlbnQgPQogICAgICAgICAgYCR7TWF0aC5yb3VuZCgocG9zaXRpb24gLyBmaWxlRGF0YS5ieXRlTGVuZ3RoKSAqIDEwMCl9JSBkb25lYDsKICAgIH0KICB9CgogIC8vIEFsbCBkb25lLgogIHlpZWxkIHsKICAgIHJlc3BvbnNlOiB7CiAgICAgIGFjdGlvbjogJ2NvbXBsZXRlJywKICAgIH0KICB9Owp9CgpzY29wZS5nb29nbGUgPSBzY29wZS5nb29nbGUgfHwge307CnNjb3BlLmdvb2dsZS5jb2xhYiA9IHNjb3BlLmdvb2dsZS5jb2xhYiB8fCB7fTsKc2NvcGUuZ29vZ2xlLmNvbGFiLl9maWxlcyA9IHsKICBfdXBsb2FkRmlsZXMsCiAgX3VwbG9hZEZpbGVzQ29udGludWUsCn07Cn0pKHNlbGYpOwo=",
              "ok": true,
              "headers": [
                [
                  "content-type",
                  "application/javascript"
                ]
              ],
              "status": 200,
              "status_text": ""
            }
          },
          "base_uri": "https://localhost:8080/",
          "height": 72
        }
      },
      "cell_type": "code",
      "source": [
        "\n",
        "from google.colab import files, drive\n",
        "#drive.mount('/content/gdrive')\n",
        "uploaded = files.upload()"
      ],
      "execution_count": 76,
      "outputs": [
        {
          "output_type": "display_data",
          "data": {
            "text/plain": [
              "<IPython.core.display.HTML object>"
            ],
            "text/html": [
              "\n",
              "     <input type=\"file\" id=\"files-3333bfef-2aed-4c2a-83d2-5e4a9a96c57b\" name=\"files[]\" multiple disabled />\n",
              "     <output id=\"result-3333bfef-2aed-4c2a-83d2-5e4a9a96c57b\">\n",
              "      Upload widget is only available when the cell has been executed in the\n",
              "      current browser session. Please rerun this cell to enable.\n",
              "      </output>\n",
              "      <script src=\"/nbextensions/google.colab/files.js\"></script> "
            ]
          },
          "metadata": {
            "tags": []
          }
        },
        {
          "output_type": "stream",
          "text": [
            "Saving All_GPUs.csv to All_GPUs (3).csv\n"
          ],
          "name": "stdout"
        }
      ]
    },
    {
      "metadata": {
        "id": "fx0Ph46XPQB9",
        "colab_type": "code",
        "colab": {}
      },
      "cell_type": "code",
      "source": [
        "#IMPORTS\n",
        "import pandas as pd\n",
        "import io\n",
        "import math\n",
        "import re\n",
        "import seaborn as sns\n",
        "import matplotlib.pyplot as plt\n"
      ],
      "execution_count": 0,
      "outputs": []
    },
    {
      "metadata": {
        "id": "ltl5mEwW3mQD",
        "colab_type": "code",
        "outputId": "3aea164f-eedd-4cf0-cbdc-66d8af6a3d40",
        "colab": {
          "base_uri": "https://localhost:8080/",
          "height": 34
        }
      },
      "cell_type": "code",
      "source": [
        "\n",
        "\n",
        "\n",
        "#gpu_raw=pd.read_csv('content/gdrive/My Drive/All_GPUs.csv')\n",
        "\n",
        "\n",
        "gpu_raw = pd.read_csv(io.StringIO(uploaded['All_GPUs.csv'].decode('utf-8')))\n",
        "#gpu.head()\n",
        "gpu_raw.Manufacturer.unique()"
      ],
      "execution_count": 78,
      "outputs": [
        {
          "output_type": "execute_result",
          "data": {
            "text/plain": [
              "array(['Nvidia', 'AMD', 'Intel', 'ATI'], dtype=object)"
            ]
          },
          "metadata": {
            "tags": []
          },
          "execution_count": 78
        }
      ]
    },
    {
      "metadata": {
        "id": "MQvWpY8v9n6W",
        "colab_type": "text"
      },
      "cell_type": "markdown",
      "source": [
        "Parte 1"
      ]
    },
    {
      "metadata": {
        "id": "cjYi0LWRS434",
        "colab_type": "text"
      },
      "cell_type": "markdown",
      "source": [
        "Isto vai ser o nosso dataset inicial, com informação de quase todos as graficas que sairam no mercado (3406 GPUs).\n",
        "\n",
        "O objetivo será prever o seu preço de lançamento de acordo com os dados respetivos da placa gráfica, por isso o Target deste problema será o \"Release_Price\", e o restante as features."
      ]
    },
    {
      "metadata": {
        "id": "0ublvst28zs9",
        "colab_type": "code",
        "outputId": "6d03d423-95cb-4b54-c83d-dc267f0ff7ef",
        "colab": {
          "base_uri": "https://localhost:8080/",
          "height": 496
        }
      },
      "cell_type": "code",
      "source": [
        "\n",
        "gpu_raw.head()"
      ],
      "execution_count": 79,
      "outputs": [
        {
          "output_type": "execute_result",
          "data": {
            "text/html": [
              "<div>\n",
              "<style scoped>\n",
              "    .dataframe tbody tr th:only-of-type {\n",
              "        vertical-align: middle;\n",
              "    }\n",
              "\n",
              "    .dataframe tbody tr th {\n",
              "        vertical-align: top;\n",
              "    }\n",
              "\n",
              "    .dataframe thead th {\n",
              "        text-align: right;\n",
              "    }\n",
              "</style>\n",
              "<table border=\"1\" class=\"dataframe\">\n",
              "  <thead>\n",
              "    <tr style=\"text-align: right;\">\n",
              "      <th></th>\n",
              "      <th>Architecture</th>\n",
              "      <th>Best_Resolution</th>\n",
              "      <th>Boost_Clock</th>\n",
              "      <th>Core_Speed</th>\n",
              "      <th>DVI_Connection</th>\n",
              "      <th>Dedicated</th>\n",
              "      <th>Direct_X</th>\n",
              "      <th>DisplayPort_Connection</th>\n",
              "      <th>HDMI_Connection</th>\n",
              "      <th>Integrated</th>\n",
              "      <th>L2_Cache</th>\n",
              "      <th>Manufacturer</th>\n",
              "      <th>Max_Power</th>\n",
              "      <th>Memory</th>\n",
              "      <th>Memory_Bandwidth</th>\n",
              "      <th>Memory_Bus</th>\n",
              "      <th>Memory_Speed</th>\n",
              "      <th>Memory_Type</th>\n",
              "      <th>Name</th>\n",
              "      <th>Notebook_GPU</th>\n",
              "      <th>Open_GL</th>\n",
              "      <th>PSU</th>\n",
              "      <th>Pixel_Rate</th>\n",
              "      <th>Power_Connector</th>\n",
              "      <th>Process</th>\n",
              "      <th>ROPs</th>\n",
              "      <th>Release_Date</th>\n",
              "      <th>Release_Price</th>\n",
              "      <th>Resolution_WxH</th>\n",
              "      <th>SLI_Crossfire</th>\n",
              "      <th>Shader</th>\n",
              "      <th>TMUs</th>\n",
              "      <th>Texture_Rate</th>\n",
              "      <th>VGA_Connection</th>\n",
              "    </tr>\n",
              "  </thead>\n",
              "  <tbody>\n",
              "    <tr>\n",
              "      <th>0</th>\n",
              "      <td>Tesla G92b</td>\n",
              "      <td>NaN</td>\n",
              "      <td>NaN</td>\n",
              "      <td>738 MHz</td>\n",
              "      <td>2.0</td>\n",
              "      <td>Yes</td>\n",
              "      <td>DX 10.0</td>\n",
              "      <td>NaN</td>\n",
              "      <td>0.0</td>\n",
              "      <td>No</td>\n",
              "      <td>0KB</td>\n",
              "      <td>Nvidia</td>\n",
              "      <td>141 Watts</td>\n",
              "      <td>1024 MB</td>\n",
              "      <td>64GB/sec</td>\n",
              "      <td>256 Bit</td>\n",
              "      <td>1000 MHz</td>\n",
              "      <td>GDDR3</td>\n",
              "      <td>GeForce GTS 150</td>\n",
              "      <td>No</td>\n",
              "      <td>3.3</td>\n",
              "      <td>450 Watt &amp; 38 Amps</td>\n",
              "      <td>12 GPixel/s</td>\n",
              "      <td>None</td>\n",
              "      <td>55nm</td>\n",
              "      <td>16</td>\n",
              "      <td>\\n01-Mar-2009</td>\n",
              "      <td>NaN</td>\n",
              "      <td>2560x1600</td>\n",
              "      <td>Yes</td>\n",
              "      <td>4.0</td>\n",
              "      <td>64.0</td>\n",
              "      <td>47 GTexel/s</td>\n",
              "      <td>0.0</td>\n",
              "    </tr>\n",
              "    <tr>\n",
              "      <th>1</th>\n",
              "      <td>R600 XT</td>\n",
              "      <td>1366 x 768</td>\n",
              "      <td>NaN</td>\n",
              "      <td>\\n-</td>\n",
              "      <td>2.0</td>\n",
              "      <td>Yes</td>\n",
              "      <td>DX 10</td>\n",
              "      <td>NaN</td>\n",
              "      <td>0.0</td>\n",
              "      <td>No</td>\n",
              "      <td>0KB</td>\n",
              "      <td>AMD</td>\n",
              "      <td>215 Watts</td>\n",
              "      <td>512 MB</td>\n",
              "      <td>106GB/sec</td>\n",
              "      <td>512 Bit</td>\n",
              "      <td>828 MHz</td>\n",
              "      <td>GDDR3</td>\n",
              "      <td>Radeon HD 2900 XT 512MB</td>\n",
              "      <td>No</td>\n",
              "      <td>3.1</td>\n",
              "      <td>550 Watt &amp; 35 Amps</td>\n",
              "      <td>12 GPixel/s</td>\n",
              "      <td>None</td>\n",
              "      <td>80nm</td>\n",
              "      <td>16</td>\n",
              "      <td>\\n14-May-2007</td>\n",
              "      <td>NaN</td>\n",
              "      <td>2560x1600</td>\n",
              "      <td>Yes</td>\n",
              "      <td>4.0</td>\n",
              "      <td>16.0</td>\n",
              "      <td>12 GTexel/s</td>\n",
              "      <td>0.0</td>\n",
              "    </tr>\n",
              "    <tr>\n",
              "      <th>2</th>\n",
              "      <td>R600 PRO</td>\n",
              "      <td>1366 x 768</td>\n",
              "      <td>NaN</td>\n",
              "      <td>\\n-</td>\n",
              "      <td>2.0</td>\n",
              "      <td>Yes</td>\n",
              "      <td>DX 10</td>\n",
              "      <td>NaN</td>\n",
              "      <td>0.0</td>\n",
              "      <td>No</td>\n",
              "      <td>0KB</td>\n",
              "      <td>AMD</td>\n",
              "      <td>200 Watts</td>\n",
              "      <td>512 MB</td>\n",
              "      <td>51.2GB/sec</td>\n",
              "      <td>256 Bit</td>\n",
              "      <td>800 MHz</td>\n",
              "      <td>GDDR3</td>\n",
              "      <td>Radeon HD 2900 Pro</td>\n",
              "      <td>No</td>\n",
              "      <td>3.1</td>\n",
              "      <td>550 Watt &amp; 35 Amps</td>\n",
              "      <td>10 GPixel/s</td>\n",
              "      <td>None</td>\n",
              "      <td>80nm</td>\n",
              "      <td>16</td>\n",
              "      <td>\\n07-Dec-2007</td>\n",
              "      <td>NaN</td>\n",
              "      <td>2560x1600</td>\n",
              "      <td>Yes</td>\n",
              "      <td>4.0</td>\n",
              "      <td>16.0</td>\n",
              "      <td>10 GTexel/s</td>\n",
              "      <td>0.0</td>\n",
              "    </tr>\n",
              "    <tr>\n",
              "      <th>3</th>\n",
              "      <td>RV630</td>\n",
              "      <td>1024 x 768</td>\n",
              "      <td>NaN</td>\n",
              "      <td>\\n-</td>\n",
              "      <td>2.0</td>\n",
              "      <td>Yes</td>\n",
              "      <td>DX 10</td>\n",
              "      <td>NaN</td>\n",
              "      <td>0.0</td>\n",
              "      <td>No</td>\n",
              "      <td>0KB</td>\n",
              "      <td>AMD</td>\n",
              "      <td>NaN</td>\n",
              "      <td>256 MB</td>\n",
              "      <td>36.8GB/sec</td>\n",
              "      <td>128 Bit</td>\n",
              "      <td>1150 MHz</td>\n",
              "      <td>GDDR4</td>\n",
              "      <td>Radeon HD 2600 XT Diamond Edition</td>\n",
              "      <td>No</td>\n",
              "      <td>3.3</td>\n",
              "      <td>NaN</td>\n",
              "      <td>3 GPixel/s</td>\n",
              "      <td>None</td>\n",
              "      <td>65nm</td>\n",
              "      <td>4</td>\n",
              "      <td>\\n01-Jul-2007</td>\n",
              "      <td>NaN</td>\n",
              "      <td>2560x1600</td>\n",
              "      <td>Yes</td>\n",
              "      <td>4.0</td>\n",
              "      <td>8.0</td>\n",
              "      <td>7 GTexel/s</td>\n",
              "      <td>0.0</td>\n",
              "    </tr>\n",
              "    <tr>\n",
              "      <th>4</th>\n",
              "      <td>RV630</td>\n",
              "      <td>1024 x 768</td>\n",
              "      <td>NaN</td>\n",
              "      <td>\\n-</td>\n",
              "      <td>2.0</td>\n",
              "      <td>Yes</td>\n",
              "      <td>DX 10</td>\n",
              "      <td>NaN</td>\n",
              "      <td>0.0</td>\n",
              "      <td>No</td>\n",
              "      <td>0KB</td>\n",
              "      <td>AMD</td>\n",
              "      <td>45 Watts</td>\n",
              "      <td>256 MB</td>\n",
              "      <td>22.4GB/sec</td>\n",
              "      <td>128 Bit</td>\n",
              "      <td>700 MHz</td>\n",
              "      <td>GDDR3</td>\n",
              "      <td>Radeon HD 2600 XT</td>\n",
              "      <td>No</td>\n",
              "      <td>3.1</td>\n",
              "      <td>400 Watt &amp; 25 Amps</td>\n",
              "      <td>3 GPixel/s</td>\n",
              "      <td>None</td>\n",
              "      <td>65nm</td>\n",
              "      <td>4</td>\n",
              "      <td>\\n28-Jun-2007</td>\n",
              "      <td>NaN</td>\n",
              "      <td>2560x1600</td>\n",
              "      <td>Yes</td>\n",
              "      <td>4.0</td>\n",
              "      <td>8.0</td>\n",
              "      <td>6 GTexel/s</td>\n",
              "      <td>0.0</td>\n",
              "    </tr>\n",
              "  </tbody>\n",
              "</table>\n",
              "</div>"
            ],
            "text/plain": [
              "  Architecture Best_Resolution Boost_Clock Core_Speed  DVI_Connection  \\\n",
              "0  Tesla G92b              NaN         NaN    738 MHz             2.0   \n",
              "1     R600 XT       1366 x 768         NaN       \\n-              2.0   \n",
              "2    R600 PRO       1366 x 768         NaN       \\n-              2.0   \n",
              "3       RV630       1024 x 768         NaN       \\n-              2.0   \n",
              "4       RV630       1024 x 768         NaN       \\n-              2.0   \n",
              "\n",
              "  Dedicated Direct_X  DisplayPort_Connection  HDMI_Connection Integrated  \\\n",
              "0       Yes  DX 10.0                     NaN              0.0         No   \n",
              "1       Yes    DX 10                     NaN              0.0         No   \n",
              "2       Yes    DX 10                     NaN              0.0         No   \n",
              "3       Yes    DX 10                     NaN              0.0         No   \n",
              "4       Yes    DX 10                     NaN              0.0         No   \n",
              "\n",
              "  L2_Cache Manufacturer  Max_Power    Memory Memory_Bandwidth Memory_Bus  \\\n",
              "0      0KB       Nvidia  141 Watts  1024 MB          64GB/sec   256 Bit    \n",
              "1      0KB          AMD  215 Watts   512 MB         106GB/sec   512 Bit    \n",
              "2      0KB          AMD  200 Watts   512 MB        51.2GB/sec   256 Bit    \n",
              "3      0KB          AMD        NaN   256 MB        36.8GB/sec   128 Bit    \n",
              "4      0KB          AMD   45 Watts   256 MB        22.4GB/sec   128 Bit    \n",
              "\n",
              "  Memory_Speed Memory_Type                               Name Notebook_GPU  \\\n",
              "0     1000 MHz       GDDR3                    GeForce GTS 150           No   \n",
              "1      828 MHz       GDDR3            Radeon HD 2900 XT 512MB           No   \n",
              "2      800 MHz       GDDR3                 Radeon HD 2900 Pro           No   \n",
              "3     1150 MHz       GDDR4  Radeon HD 2600 XT Diamond Edition           No   \n",
              "4      700 MHz       GDDR3                  Radeon HD 2600 XT           No   \n",
              "\n",
              "   Open_GL                 PSU   Pixel_Rate Power_Connector Process ROPs  \\\n",
              "0      3.3  450 Watt & 38 Amps  12 GPixel/s           None     55nm   16   \n",
              "1      3.1  550 Watt & 35 Amps  12 GPixel/s           None     80nm   16   \n",
              "2      3.1  550 Watt & 35 Amps  10 GPixel/s           None     80nm   16   \n",
              "3      3.3                 NaN   3 GPixel/s           None     65nm    4   \n",
              "4      3.1  400 Watt & 25 Amps   3 GPixel/s           None     65nm    4   \n",
              "\n",
              "     Release_Date Release_Price Resolution_WxH SLI_Crossfire  Shader  TMUs  \\\n",
              "0  \\n01-Mar-2009            NaN      2560x1600           Yes     4.0  64.0   \n",
              "1  \\n14-May-2007            NaN      2560x1600           Yes     4.0  16.0   \n",
              "2  \\n07-Dec-2007            NaN      2560x1600           Yes     4.0  16.0   \n",
              "3  \\n01-Jul-2007            NaN      2560x1600           Yes     4.0   8.0   \n",
              "4  \\n28-Jun-2007            NaN      2560x1600           Yes     4.0   8.0   \n",
              "\n",
              "  Texture_Rate  VGA_Connection  \n",
              "0  47 GTexel/s             0.0  \n",
              "1  12 GTexel/s             0.0  \n",
              "2  10 GTexel/s             0.0  \n",
              "3   7 GTexel/s             0.0  \n",
              "4   6 GTexel/s             0.0  "
            ]
          },
          "metadata": {
            "tags": []
          },
          "execution_count": 79
        }
      ]
    },
    {
      "metadata": {
        "id": "l0djCCWJK-SR",
        "colab_type": "code",
        "outputId": "38799808-0d0e-4b17-ad31-3f0406dbf8bb",
        "colab": {
          "base_uri": "https://localhost:8080/",
          "height": 102
        }
      },
      "cell_type": "code",
      "source": [
        "display('Dimensionalidade: ' + str(len(gpu_raw.columns)))\n",
        "\n",
        "print('\\n')\n",
        "display('Tamanho')\n",
        "gpu_raw.shape"
      ],
      "execution_count": 80,
      "outputs": [
        {
          "output_type": "display_data",
          "data": {
            "text/plain": [
              "'Dimensionalidade: 34'"
            ]
          },
          "metadata": {
            "tags": []
          }
        },
        {
          "output_type": "stream",
          "text": [
            "\n",
            "\n"
          ],
          "name": "stdout"
        },
        {
          "output_type": "display_data",
          "data": {
            "text/plain": [
              "'Tamanho'"
            ]
          },
          "metadata": {
            "tags": []
          }
        },
        {
          "output_type": "execute_result",
          "data": {
            "text/plain": [
              "(3406, 34)"
            ]
          },
          "metadata": {
            "tags": []
          },
          "execution_count": 80
        }
      ]
    },
    {
      "metadata": {
        "id": "9dk-e3JPXVtr",
        "colab_type": "text"
      },
      "cell_type": "markdown",
      "source": [
        "**Resolução**\n",
        "\n",
        "      Architecture: \n",
        "  \n",
        "      Best_Resolution: Width x Height / discreto\n",
        "  \n",
        "      Boost_Clock: Mhz / discreto\n",
        "  \n",
        "      Core_Speed: Mhz / discreto\n",
        "  \n",
        "      DVI_Connection: unidade / discreto\n",
        "  \n",
        "      Dedicated: Yes/No / binario\n",
        "  \n",
        "      Direct_X: DX / discreto\n",
        "  \n",
        "      DisplayPort_Connection: Unidade / discreto\n",
        "  \n",
        "      HDMI:Connection: Unidade / discreto\n",
        "  \n",
        "      Integrated: Yes/No / discreto\n",
        "  \n",
        "      L2_Cache: KB / discreto\n",
        "  \n",
        "      Manufacturer: Nvidia/Amd / discreto\n",
        "  \n",
        "      Max_Power: Watts / discreto\n",
        "  \n",
        "      Memory: MB / discreto\n",
        "  \n",
        "      Memory_Bacdwidth: GB/sec / discreto\n",
        "  \n",
        "      Memory_Bus: Bit / discreto\n",
        "  \n",
        "      Memory_Speed: Mhz / discreto\n",
        "  \n",
        "      Memory_Type: DDR / discreto\n",
        "  \n",
        "      Name:  / discreto\n",
        "  \n",
        "      Notebook_GPU: No/Yes / binario\n",
        "  \n",
        "      Open_GL: unidade / discreto\n",
        "  \n",
        "      PSU: Watt and Amp / discreto\n",
        "  \n",
        "      Pixel_Rate: GPixel/s / discreto\n",
        "  \n",
        "      Power_Connector: unidade / discreto\n",
        "  \n",
        "      Process: nm / discreto\n",
        "  \n",
        "      ROPs: unidade / discreto\n",
        "  \n",
        "      Release_Date: Data / discreto\n",
        "  \n",
        "      Release_Price: $ / discreto\n",
        "  \n",
        "      Resolution_WxW:  Width x Height / discreto\n",
        "  \n",
        "      SLI_Crossfire: Yes/No / binario\n",
        "  \n",
        "      Shader: unidade / discreto\n",
        "  \n",
        "      TMUs: unidade / discreto\n",
        "  \n",
        "      Texture_Rate: GTexel/s / discreto\n",
        "  \n",
        "      VGA_Connection: unidade / discreto\n",
        " "
      ]
    },
    {
      "metadata": {
        "id": "RzDSABg4Pofo",
        "colab_type": "code",
        "outputId": "a6728799-51e9-41da-c6e3-e3dab3a55ef7",
        "colab": {
          "base_uri": "https://localhost:8080/",
          "height": 612
        }
      },
      "cell_type": "code",
      "source": [
        "gpu_raw.dtypes"
      ],
      "execution_count": 81,
      "outputs": [
        {
          "output_type": "execute_result",
          "data": {
            "text/plain": [
              "Architecture               object\n",
              "Best_Resolution            object\n",
              "Boost_Clock                object\n",
              "Core_Speed                 object\n",
              "DVI_Connection            float64\n",
              "Dedicated                  object\n",
              "Direct_X                   object\n",
              "DisplayPort_Connection    float64\n",
              "HDMI_Connection           float64\n",
              "Integrated                 object\n",
              "L2_Cache                   object\n",
              "Manufacturer               object\n",
              "Max_Power                  object\n",
              "Memory                     object\n",
              "Memory_Bandwidth           object\n",
              "Memory_Bus                 object\n",
              "Memory_Speed               object\n",
              "Memory_Type                object\n",
              "Name                       object\n",
              "Notebook_GPU               object\n",
              "Open_GL                   float64\n",
              "PSU                        object\n",
              "Pixel_Rate                 object\n",
              "Power_Connector            object\n",
              "Process                    object\n",
              "ROPs                       object\n",
              "Release_Date               object\n",
              "Release_Price              object\n",
              "Resolution_WxH             object\n",
              "SLI_Crossfire              object\n",
              "Shader                    float64\n",
              "TMUs                      float64\n",
              "Texture_Rate               object\n",
              "VGA_Connection            float64\n",
              "dtype: object"
            ]
          },
          "metadata": {
            "tags": []
          },
          "execution_count": 81
        }
      ]
    },
    {
      "metadata": {
        "id": "9o5_yXMhTapw",
        "colab_type": "text"
      },
      "cell_type": "markdown",
      "source": [
        "Como podemos ver existe muito trabalho a fazer em relação as features, muitas delas não são numeros e é possível a existencia de NaNs.\n",
        "Uma análise ao dataset acima, podemos ver que as features \"Manufacturer\", \"Memory Type\" e \"Sli_Crossfire\" são ideais para o onehot encoding."
      ]
    },
    {
      "metadata": {
        "id": "xFLGBR6fZXuD",
        "colab_type": "text"
      },
      "cell_type": "markdown",
      "source": [
        "Retiramos todos os GPUs que não tem Release Price, porque este é necessário para sabermos a precissão dos nossos algoritmos"
      ]
    },
    {
      "metadata": {
        "id": "YC6YW0qmNZ3J",
        "colab_type": "code",
        "colab": {}
      },
      "cell_type": "code",
      "source": [
        "gpu = gpu_raw.dropna(subset=['Release_Price']) #REDUZIDO A 600 GPUs"
      ],
      "execution_count": 0,
      "outputs": []
    },
    {
      "metadata": {
        "id": "DKFN4GZnVGwj",
        "colab_type": "text"
      },
      "cell_type": "markdown",
      "source": [
        "one hot encoding aqui aplicado"
      ]
    },
    {
      "metadata": {
        "id": "wWUeb8AZJkWB",
        "colab_type": "code",
        "colab": {}
      },
      "cell_type": "code",
      "source": [
        "gpu = pd.get_dummies(gpu, columns=[\"Manufacturer\"])\n",
        "gpu = pd.get_dummies(gpu, columns=[\"Memory_Type\"])\n",
        "gpu = pd.get_dummies(gpu, columns=[\"SLI_Crossfire\"])"
      ],
      "execution_count": 0,
      "outputs": []
    },
    {
      "metadata": {
        "id": "yyXBOx10Vplz",
        "colab_type": "text"
      },
      "cell_type": "markdown",
      "source": [
        "Nas Features \"Best_Resolution\" e ROPs como sao dois numeros (ex: 16x4) multiplicamos estes dois numeros para todas as rows e assim passamos de string para numero."
      ]
    },
    {
      "metadata": {
        "id": "FeIaeLAxwMbD",
        "colab_type": "code",
        "outputId": "74de344c-329c-4303-a18c-135217f5bffc",
        "colab": {
          "base_uri": "https://localhost:8080/",
          "height": 581
        }
      },
      "cell_type": "code",
      "source": [
        "resolucao = []\n",
        "ROP = []\n",
        "\n",
        "\n",
        "z = -1\n",
        "for i in gpu.index:\n",
        "  z+=1\n",
        "  resolucao.append(gpu_raw.loc[i]['Best_Resolution'])\n",
        "  ROP.append(gpu_raw.loc[i]['ROPs'])\n",
        "  if not isinstance(resolucao[z], float):\n",
        "    a = ((re.findall(r\"[-+]?\\d*\\.\\d+|\\d+\", resolucao[z])))\n",
        "    if (not a):\n",
        "      resolucao[z] = (float('nan'))\n",
        "    else:\n",
        "      resolucao[z] = (float(a[0]) * float(a[1]))\n",
        "  else:\n",
        "    if math.isnan(resolucao[z]):\n",
        "      resolucao[z] = (float('nan'))\n",
        "      \n",
        "  if not isinstance(ROP[z], float):\n",
        "    b = ((re.findall(r\"[-+]?\\d*\\.\\d+|\\d+\", ROP[z])))\n",
        "    if (not b):\n",
        "      ROP[z] = (float('nan'))\n",
        "    elif (len(b) == 1):\n",
        "      ROP[z] = float(b[0]) \n",
        "    else:\n",
        "      ROP[z] = (float(b[0]) * float(b[1]))\n",
        "  else:\n",
        "    if math.isnan(resolucao[z]):\n",
        "      ROP[z] = (float('nan'))   \n",
        "\n",
        "\n",
        "gpu['Resolution Pixels'] = resolucao\n",
        "gpu['Rops upd'] = ROP\n",
        "if 'Best_Resolution' in gpu.columns:\n",
        "  gpu = gpu.drop('Best_Resolution', 1)\n",
        "if 'ROPs' in gpu.columns:\n",
        "  gpu = gpu.drop('ROPs', 1)\n",
        "    \n",
        "gpu.head()"
      ],
      "execution_count": 84,
      "outputs": [
        {
          "output_type": "execute_result",
          "data": {
            "text/html": [
              "<div>\n",
              "<style scoped>\n",
              "    .dataframe tbody tr th:only-of-type {\n",
              "        vertical-align: middle;\n",
              "    }\n",
              "\n",
              "    .dataframe tbody tr th {\n",
              "        vertical-align: top;\n",
              "    }\n",
              "\n",
              "    .dataframe thead th {\n",
              "        text-align: right;\n",
              "    }\n",
              "</style>\n",
              "<table border=\"1\" class=\"dataframe\">\n",
              "  <thead>\n",
              "    <tr style=\"text-align: right;\">\n",
              "      <th></th>\n",
              "      <th>Architecture</th>\n",
              "      <th>Boost_Clock</th>\n",
              "      <th>Core_Speed</th>\n",
              "      <th>DVI_Connection</th>\n",
              "      <th>Dedicated</th>\n",
              "      <th>Direct_X</th>\n",
              "      <th>DisplayPort_Connection</th>\n",
              "      <th>HDMI_Connection</th>\n",
              "      <th>Integrated</th>\n",
              "      <th>L2_Cache</th>\n",
              "      <th>Max_Power</th>\n",
              "      <th>Memory</th>\n",
              "      <th>Memory_Bandwidth</th>\n",
              "      <th>Memory_Bus</th>\n",
              "      <th>Memory_Speed</th>\n",
              "      <th>Name</th>\n",
              "      <th>Notebook_GPU</th>\n",
              "      <th>Open_GL</th>\n",
              "      <th>PSU</th>\n",
              "      <th>Pixel_Rate</th>\n",
              "      <th>Power_Connector</th>\n",
              "      <th>Process</th>\n",
              "      <th>Release_Date</th>\n",
              "      <th>Release_Price</th>\n",
              "      <th>Resolution_WxH</th>\n",
              "      <th>Shader</th>\n",
              "      <th>TMUs</th>\n",
              "      <th>Texture_Rate</th>\n",
              "      <th>VGA_Connection</th>\n",
              "      <th>Manufacturer_AMD</th>\n",
              "      <th>Manufacturer_ATI</th>\n",
              "      <th>Manufacturer_Nvidia</th>\n",
              "      <th>Memory_Type_DDR3</th>\n",
              "      <th>Memory_Type_GDDR3</th>\n",
              "      <th>Memory_Type_GDDR5</th>\n",
              "      <th>Memory_Type_GDDR5X</th>\n",
              "      <th>Memory_Type_HBM-1</th>\n",
              "      <th>Memory_Type_HBM-2</th>\n",
              "      <th>SLI_Crossfire_No</th>\n",
              "      <th>SLI_Crossfire_Yes</th>\n",
              "      <th>Resolution Pixels</th>\n",
              "      <th>Rops upd</th>\n",
              "    </tr>\n",
              "  </thead>\n",
              "  <tbody>\n",
              "    <tr>\n",
              "      <th>42</th>\n",
              "      <td>Pascal GP102</td>\n",
              "      <td>1531 MHz</td>\n",
              "      <td>\\n-</td>\n",
              "      <td>1.0</td>\n",
              "      <td>NaN</td>\n",
              "      <td>DX 12</td>\n",
              "      <td>3.0</td>\n",
              "      <td>1.0</td>\n",
              "      <td>NaN</td>\n",
              "      <td>3072KB</td>\n",
              "      <td>250 Watts</td>\n",
              "      <td>NaN</td>\n",
              "      <td>480GB/sec</td>\n",
              "      <td>384 Bit</td>\n",
              "      <td>1250 MHz</td>\n",
              "      <td>Titan X Pascal 2016</td>\n",
              "      <td>No</td>\n",
              "      <td>4.5</td>\n",
              "      <td>600 Watt &amp; 60 Amps</td>\n",
              "      <td>147 GPixel/s</td>\n",
              "      <td>1x 6-pin + 1x 8-pin</td>\n",
              "      <td>16nm</td>\n",
              "      <td>\\n02-Aug-2016</td>\n",
              "      <td>$1199.00</td>\n",
              "      <td>7680x4320</td>\n",
              "      <td>5.0</td>\n",
              "      <td>224.0</td>\n",
              "      <td>343 GTexel/s</td>\n",
              "      <td>0.0</td>\n",
              "      <td>0</td>\n",
              "      <td>0</td>\n",
              "      <td>1</td>\n",
              "      <td>0</td>\n",
              "      <td>0</td>\n",
              "      <td>0</td>\n",
              "      <td>1</td>\n",
              "      <td>0</td>\n",
              "      <td>0</td>\n",
              "      <td>1</td>\n",
              "      <td>0</td>\n",
              "      <td>8294400.0</td>\n",
              "      <td>96.0</td>\n",
              "    </tr>\n",
              "    <tr>\n",
              "      <th>45</th>\n",
              "      <td>Pascal GP102</td>\n",
              "      <td>1582 MHz</td>\n",
              "      <td>\\n-</td>\n",
              "      <td>1.0</td>\n",
              "      <td>Yes</td>\n",
              "      <td>DX 12</td>\n",
              "      <td>3.0</td>\n",
              "      <td>1.0</td>\n",
              "      <td>No</td>\n",
              "      <td>0KB(x4)</td>\n",
              "      <td>250 Watts</td>\n",
              "      <td>12288 MB</td>\n",
              "      <td>547.2GB/sec</td>\n",
              "      <td>96 Bit</td>\n",
              "      <td>1425 MHz</td>\n",
              "      <td>GeForce Titan XP</td>\n",
              "      <td>No</td>\n",
              "      <td>4.5</td>\n",
              "      <td>600 Watt &amp; 60 Amps</td>\n",
              "      <td>152 GPixel/s</td>\n",
              "      <td>1x 6-pin + 1x 8-pin</td>\n",
              "      <td>16nm</td>\n",
              "      <td>\\n06-Apr-2017</td>\n",
              "      <td>$1199.00</td>\n",
              "      <td>7680x4320</td>\n",
              "      <td>5.0</td>\n",
              "      <td>56.0</td>\n",
              "      <td>354 GTexel/s</td>\n",
              "      <td>0.0</td>\n",
              "      <td>0</td>\n",
              "      <td>0</td>\n",
              "      <td>1</td>\n",
              "      <td>0</td>\n",
              "      <td>0</td>\n",
              "      <td>0</td>\n",
              "      <td>1</td>\n",
              "      <td>0</td>\n",
              "      <td>0</td>\n",
              "      <td>0</td>\n",
              "      <td>1</td>\n",
              "      <td>8294400.0</td>\n",
              "      <td>96.0</td>\n",
              "    </tr>\n",
              "    <tr>\n",
              "      <th>47</th>\n",
              "      <td>Kepler GK110-430-B1 (x2)</td>\n",
              "      <td>876 MHz</td>\n",
              "      <td>705 MHz</td>\n",
              "      <td>2.0</td>\n",
              "      <td>Yes</td>\n",
              "      <td>DX 12.0</td>\n",
              "      <td>NaN</td>\n",
              "      <td>1.0</td>\n",
              "      <td>No</td>\n",
              "      <td>1536KB(x2)</td>\n",
              "      <td>375 Watts</td>\n",
              "      <td>12288 MB</td>\n",
              "      <td>672GB/sec</td>\n",
              "      <td>384 Bit</td>\n",
              "      <td>1750 MHz</td>\n",
              "      <td>GeForce GTX Titan Z Palit 12GB Edition</td>\n",
              "      <td>No</td>\n",
              "      <td>4.5</td>\n",
              "      <td>700 Watt &amp; 42 Amps</td>\n",
              "      <td>84 GPixel/s</td>\n",
              "      <td>2x 8-pin</td>\n",
              "      <td>28nm</td>\n",
              "      <td>\\n28-May-2014</td>\n",
              "      <td>$2999.00</td>\n",
              "      <td>4096x2160</td>\n",
              "      <td>5.0</td>\n",
              "      <td>240.0</td>\n",
              "      <td>420 GTexel/s</td>\n",
              "      <td>0.0</td>\n",
              "      <td>0</td>\n",
              "      <td>0</td>\n",
              "      <td>1</td>\n",
              "      <td>0</td>\n",
              "      <td>0</td>\n",
              "      <td>1</td>\n",
              "      <td>0</td>\n",
              "      <td>0</td>\n",
              "      <td>0</td>\n",
              "      <td>0</td>\n",
              "      <td>1</td>\n",
              "      <td>9216000.0</td>\n",
              "      <td>96.0</td>\n",
              "    </tr>\n",
              "    <tr>\n",
              "      <th>49</th>\n",
              "      <td>Kepler GK110-430-B1 (x2)</td>\n",
              "      <td>876 MHz</td>\n",
              "      <td>705 MHz</td>\n",
              "      <td>2.0</td>\n",
              "      <td>Yes</td>\n",
              "      <td>DX 12.0</td>\n",
              "      <td>NaN</td>\n",
              "      <td>1.0</td>\n",
              "      <td>No</td>\n",
              "      <td>1536KB(x2)</td>\n",
              "      <td>375 Watts</td>\n",
              "      <td>12288 MB</td>\n",
              "      <td>672GB/sec</td>\n",
              "      <td>384 Bit</td>\n",
              "      <td>1750 MHz</td>\n",
              "      <td>GeForce GTX Titan Z</td>\n",
              "      <td>No</td>\n",
              "      <td>4.5</td>\n",
              "      <td>700 Watt &amp; 42 Amps</td>\n",
              "      <td>84 GPixel/s</td>\n",
              "      <td>2x 8-pin</td>\n",
              "      <td>28nm</td>\n",
              "      <td>\\n28-May-2014</td>\n",
              "      <td>$2999.00</td>\n",
              "      <td>4096x2160</td>\n",
              "      <td>5.0</td>\n",
              "      <td>240.0</td>\n",
              "      <td>420 GTexel/s</td>\n",
              "      <td>0.0</td>\n",
              "      <td>0</td>\n",
              "      <td>0</td>\n",
              "      <td>1</td>\n",
              "      <td>0</td>\n",
              "      <td>0</td>\n",
              "      <td>1</td>\n",
              "      <td>0</td>\n",
              "      <td>0</td>\n",
              "      <td>0</td>\n",
              "      <td>0</td>\n",
              "      <td>1</td>\n",
              "      <td>8294400.0</td>\n",
              "      <td>96.0</td>\n",
              "    </tr>\n",
              "    <tr>\n",
              "      <th>51</th>\n",
              "      <td>Maxwell GM200-400-A1</td>\n",
              "      <td>1252 MHz</td>\n",
              "      <td>1140 MHz</td>\n",
              "      <td>1.0</td>\n",
              "      <td>Yes</td>\n",
              "      <td>DX 12.1</td>\n",
              "      <td>NaN</td>\n",
              "      <td>1.0</td>\n",
              "      <td>No</td>\n",
              "      <td>3072KB</td>\n",
              "      <td>250 Watts</td>\n",
              "      <td>12288 MB</td>\n",
              "      <td>336.6GB/sec</td>\n",
              "      <td>384 Bit</td>\n",
              "      <td>1753 MHz</td>\n",
              "      <td>GeForce GTX Titan X EVGA Hybrid 12GB Edition</td>\n",
              "      <td>No</td>\n",
              "      <td>4.5</td>\n",
              "      <td>600 Watt &amp; 42 Amps</td>\n",
              "      <td>120 GPixel/s</td>\n",
              "      <td>1x 6-pin + 1x 8-pin</td>\n",
              "      <td>28nm</td>\n",
              "      <td>\\n17-Mar-2015</td>\n",
              "      <td>$1099.00</td>\n",
              "      <td>4096x2160</td>\n",
              "      <td>5.0</td>\n",
              "      <td>192.0</td>\n",
              "      <td>240 GTexel/s</td>\n",
              "      <td>0.0</td>\n",
              "      <td>0</td>\n",
              "      <td>0</td>\n",
              "      <td>1</td>\n",
              "      <td>0</td>\n",
              "      <td>0</td>\n",
              "      <td>1</td>\n",
              "      <td>0</td>\n",
              "      <td>0</td>\n",
              "      <td>0</td>\n",
              "      <td>0</td>\n",
              "      <td>1</td>\n",
              "      <td>8294400.0</td>\n",
              "      <td>96.0</td>\n",
              "    </tr>\n",
              "  </tbody>\n",
              "</table>\n",
              "</div>"
            ],
            "text/plain": [
              "                 Architecture Boost_Clock Core_Speed  DVI_Connection  \\\n",
              "42              Pascal GP102    1531 MHz        \\n-              1.0   \n",
              "45              Pascal GP102    1582 MHz        \\n-              1.0   \n",
              "47  Kepler GK110-430-B1 (x2)     876 MHz     705 MHz             2.0   \n",
              "49  Kepler GK110-430-B1 (x2)     876 MHz     705 MHz             2.0   \n",
              "51      Maxwell GM200-400-A1    1252 MHz    1140 MHz             1.0   \n",
              "\n",
              "   Dedicated Direct_X  DisplayPort_Connection  HDMI_Connection Integrated  \\\n",
              "42       NaN    DX 12                     3.0              1.0        NaN   \n",
              "45       Yes    DX 12                     3.0              1.0         No   \n",
              "47       Yes  DX 12.0                     NaN              1.0         No   \n",
              "49       Yes  DX 12.0                     NaN              1.0         No   \n",
              "51       Yes  DX 12.1                     NaN              1.0         No   \n",
              "\n",
              "      L2_Cache  Max_Power     Memory Memory_Bandwidth Memory_Bus Memory_Speed  \\\n",
              "42      3072KB  250 Watts        NaN        480GB/sec   384 Bit      1250 MHz   \n",
              "45     0KB(x4)  250 Watts  12288 MB       547.2GB/sec    96 Bit      1425 MHz   \n",
              "47  1536KB(x2)  375 Watts  12288 MB         672GB/sec   384 Bit      1750 MHz   \n",
              "49  1536KB(x2)  375 Watts  12288 MB         672GB/sec   384 Bit      1750 MHz   \n",
              "51      3072KB  250 Watts  12288 MB       336.6GB/sec   384 Bit      1753 MHz   \n",
              "\n",
              "                                            Name Notebook_GPU  Open_GL  \\\n",
              "42                           Titan X Pascal 2016           No      4.5   \n",
              "45                              GeForce Titan XP           No      4.5   \n",
              "47        GeForce GTX Titan Z Palit 12GB Edition           No      4.5   \n",
              "49                           GeForce GTX Titan Z           No      4.5   \n",
              "51  GeForce GTX Titan X EVGA Hybrid 12GB Edition           No      4.5   \n",
              "\n",
              "                   PSU    Pixel_Rate       Power_Connector Process  \\\n",
              "42  600 Watt & 60 Amps  147 GPixel/s  1x 6-pin + 1x 8-pin     16nm   \n",
              "45  600 Watt & 60 Amps  152 GPixel/s  1x 6-pin + 1x 8-pin     16nm   \n",
              "47  700 Watt & 42 Amps   84 GPixel/s             2x 8-pin     28nm   \n",
              "49  700 Watt & 42 Amps   84 GPixel/s             2x 8-pin     28nm   \n",
              "51  600 Watt & 42 Amps  120 GPixel/s  1x 6-pin + 1x 8-pin     28nm   \n",
              "\n",
              "      Release_Date Release_Price Resolution_WxH  Shader   TMUs  Texture_Rate  \\\n",
              "42  \\n02-Aug-2016       $1199.00      7680x4320     5.0  224.0  343 GTexel/s   \n",
              "45  \\n06-Apr-2017       $1199.00      7680x4320     5.0   56.0  354 GTexel/s   \n",
              "47  \\n28-May-2014       $2999.00      4096x2160     5.0  240.0  420 GTexel/s   \n",
              "49  \\n28-May-2014       $2999.00      4096x2160     5.0  240.0  420 GTexel/s   \n",
              "51  \\n17-Mar-2015       $1099.00      4096x2160     5.0  192.0  240 GTexel/s   \n",
              "\n",
              "    VGA_Connection  Manufacturer_AMD  Manufacturer_ATI  Manufacturer_Nvidia  \\\n",
              "42             0.0                 0                 0                    1   \n",
              "45             0.0                 0                 0                    1   \n",
              "47             0.0                 0                 0                    1   \n",
              "49             0.0                 0                 0                    1   \n",
              "51             0.0                 0                 0                    1   \n",
              "\n",
              "    Memory_Type_DDR3  Memory_Type_GDDR3  Memory_Type_GDDR5  \\\n",
              "42                 0                  0                  0   \n",
              "45                 0                  0                  0   \n",
              "47                 0                  0                  1   \n",
              "49                 0                  0                  1   \n",
              "51                 0                  0                  1   \n",
              "\n",
              "    Memory_Type_GDDR5X  Memory_Type_HBM-1  Memory_Type_HBM-2  \\\n",
              "42                   1                  0                  0   \n",
              "45                   1                  0                  0   \n",
              "47                   0                  0                  0   \n",
              "49                   0                  0                  0   \n",
              "51                   0                  0                  0   \n",
              "\n",
              "    SLI_Crossfire_No  SLI_Crossfire_Yes  Resolution Pixels  Rops upd  \n",
              "42                 1                  0          8294400.0      96.0  \n",
              "45                 0                  1          8294400.0      96.0  \n",
              "47                 0                  1          9216000.0      96.0  \n",
              "49                 0                  1          8294400.0      96.0  \n",
              "51                 0                  1          8294400.0      96.0  "
            ]
          },
          "metadata": {
            "tags": []
          },
          "execution_count": 84
        }
      ]
    },
    {
      "metadata": {
        "id": "_tUqE7oXaxSq",
        "colab_type": "text"
      },
      "cell_type": "markdown",
      "source": [
        "Para o resto das features que tem numeros mas são Strings, vamos pegar em cada uma deles e transforma-las em float."
      ]
    },
    {
      "metadata": {
        "id": "S45l7sHiWOEz",
        "colab_type": "text"
      },
      "cell_type": "markdown",
      "source": [
        "Estas são as features que escolhemos que não dariam importancia ao nosso problema.\n",
        "O Crossfire apenas  retiramos o \"No\" do one hot enconding porque so poderia ser \"Yes\" ou \"No\", deixando o \"Yes\"."
      ]
    },
    {
      "metadata": {
        "id": "a4Qo32Q0Ta71",
        "colab_type": "code",
        "colab": {}
      },
      "cell_type": "code",
      "source": [
        "\n",
        "\n",
        "\n",
        "boosts = []\n",
        "corespeeds = []\n",
        "directxx = []\n",
        "powerr = []\n",
        "memoria = []\n",
        "memoriadebanda = []\n",
        "memoriabus = []\n",
        "memoriaspeed = []\n",
        "pixels = []\n",
        "processo = []\n",
        "texturas = []\n",
        "psu = []\n",
        "releasepreco = []\n",
        "\n",
        "tudo = [boosts, corespeeds, directxx, powerr, memoria, memoriadebanda, \n",
        "        memoriabus, memoriaspeed, pixels, processo, texturas, psu, releasepreco]\n",
        "\n",
        "features = ['Boost_Clock', 'Core_Speed', 'Direct_X', 'Max_Power', \n",
        "            'Memory', 'Memory_Bandwidth', 'Memory_Bus', 'Memory_Speed',\n",
        "            'Pixel_Rate','Process', 'Texture_Rate', 'PSU', 'Release_Price']\n",
        "\n",
        "featuresupd = ['Boost_Clock upd', 'Core_Speed upd', 'Direct_X upd', 'Max_Power GPU', \n",
        "            'Memory upd', 'Memory_Bandwidth  upd', 'Memory_Bus  upd', \n",
        "               'Memory_Speed  upd', 'Pixel_Rate  upd','Process  upd', \n",
        "               'Texture_Rate  upd', 'Recommended PSU', 'Release_Price upd']\n",
        "\n",
        "z = -1\n",
        "\n",
        "for i in gpu.index:\n",
        "  z+= 1\n",
        "  for j in range(len(tudo)):\n",
        "    tudo[j].append(gpu_raw.loc[i][features[j]])\n",
        "\n",
        "    if not isinstance(tudo[j][z], float):\n",
        "      a = ((re.findall(r\"[-+]?\\d*\\.\\d+|\\d+\", tudo[j][z])))\n",
        "      if (not a):\n",
        "        tudo[j][z] = (float('nan'))\n",
        "      else:\n",
        "        tudo[j][z] = float(a[0])\n",
        "    else:\n",
        "      if math.isnan(tudo[j][z]):\n",
        "        tudo[j][z] = (float('nan'))                           \n",
        "\n",
        "for i in range(len(tudo)):\n",
        "  gpu[featuresupd[i]] = tudo[i]\n",
        "  if features[i] in gpu.columns:\n",
        "    gpu = gpu.drop(features[i], 1)                                 "
      ],
      "execution_count": 0,
      "outputs": []
    },
    {
      "metadata": {
        "id": "feFlGNjQv1pM",
        "colab_type": "text"
      },
      "cell_type": "markdown",
      "source": [
        "Vamos retirar as features que não possam afetar muito o nosso algoritmo, Algumas delas como Notebook_GPU e Integrated estavam todas a \"No\" por isso nem vale a pena mante-las."
      ]
    },
    {
      "metadata": {
        "id": "FihW567sz3cO",
        "colab_type": "code",
        "colab": {}
      },
      "cell_type": "code",
      "source": [
        "\n",
        "gpu = gpu.drop('Notebook_GPU', 1)\n",
        "gpu = gpu.drop('DisplayPort_Connection', 1)\n",
        "gpu = gpu.drop('Integrated', 1)\n",
        "gpu = gpu.drop('Dedicated', 1)\n",
        "gpu = gpu.drop('Power_Connector', 1)\n",
        "gpu = gpu.drop('L2_Cache', 1)\n",
        "gpu = gpu.drop('Resolution_WxH', 1)\n",
        "\n",
        "gpu = gpu.drop('SLI_Crossfire_No', 1)\n",
        "gpu = gpu.rename(columns={'SLI_Crossfire_Yes': 'SLI_Crossfire upd'})"
      ],
      "execution_count": 0,
      "outputs": []
    },
    {
      "metadata": {
        "id": "rbnjr9puZQCK",
        "colab_type": "text"
      },
      "cell_type": "markdown",
      "source": [
        "Preenchemos os Boost Clocks, Shaders e Core Speeds que não existem com a sua média. Não existe um método perfeito, por isso decidimos fazer este.\n",
        "O resto dos Nans removemos."
      ]
    },
    {
      "metadata": {
        "id": "UbYmQ-pp2skc",
        "colab_type": "code",
        "outputId": "e4b9eb89-364c-48ef-f90f-a8d2d836e6b6",
        "colab": {
          "base_uri": "https://localhost:8080/",
          "height": 513
        }
      },
      "cell_type": "code",
      "source": [
        "gpu.head()"
      ],
      "execution_count": 87,
      "outputs": [
        {
          "output_type": "execute_result",
          "data": {
            "text/html": [
              "<div>\n",
              "<style scoped>\n",
              "    .dataframe tbody tr th:only-of-type {\n",
              "        vertical-align: middle;\n",
              "    }\n",
              "\n",
              "    .dataframe tbody tr th {\n",
              "        vertical-align: top;\n",
              "    }\n",
              "\n",
              "    .dataframe thead th {\n",
              "        text-align: right;\n",
              "    }\n",
              "</style>\n",
              "<table border=\"1\" class=\"dataframe\">\n",
              "  <thead>\n",
              "    <tr style=\"text-align: right;\">\n",
              "      <th></th>\n",
              "      <th>Architecture</th>\n",
              "      <th>DVI_Connection</th>\n",
              "      <th>HDMI_Connection</th>\n",
              "      <th>Name</th>\n",
              "      <th>Open_GL</th>\n",
              "      <th>Release_Date</th>\n",
              "      <th>Shader</th>\n",
              "      <th>TMUs</th>\n",
              "      <th>VGA_Connection</th>\n",
              "      <th>Manufacturer_AMD</th>\n",
              "      <th>Manufacturer_ATI</th>\n",
              "      <th>Manufacturer_Nvidia</th>\n",
              "      <th>Memory_Type_DDR3</th>\n",
              "      <th>Memory_Type_GDDR3</th>\n",
              "      <th>Memory_Type_GDDR5</th>\n",
              "      <th>Memory_Type_GDDR5X</th>\n",
              "      <th>Memory_Type_HBM-1</th>\n",
              "      <th>Memory_Type_HBM-2</th>\n",
              "      <th>SLI_Crossfire upd</th>\n",
              "      <th>Resolution Pixels</th>\n",
              "      <th>Rops upd</th>\n",
              "      <th>Boost_Clock upd</th>\n",
              "      <th>Core_Speed upd</th>\n",
              "      <th>Direct_X upd</th>\n",
              "      <th>Max_Power GPU</th>\n",
              "      <th>Memory upd</th>\n",
              "      <th>Memory_Bandwidth  upd</th>\n",
              "      <th>Memory_Bus  upd</th>\n",
              "      <th>Memory_Speed  upd</th>\n",
              "      <th>Pixel_Rate  upd</th>\n",
              "      <th>Process  upd</th>\n",
              "      <th>Texture_Rate  upd</th>\n",
              "      <th>Recommended PSU</th>\n",
              "      <th>Release_Price upd</th>\n",
              "    </tr>\n",
              "  </thead>\n",
              "  <tbody>\n",
              "    <tr>\n",
              "      <th>42</th>\n",
              "      <td>Pascal GP102</td>\n",
              "      <td>1.0</td>\n",
              "      <td>1.0</td>\n",
              "      <td>Titan X Pascal 2016</td>\n",
              "      <td>4.5</td>\n",
              "      <td>\\n02-Aug-2016</td>\n",
              "      <td>5.0</td>\n",
              "      <td>224.0</td>\n",
              "      <td>0.0</td>\n",
              "      <td>0</td>\n",
              "      <td>0</td>\n",
              "      <td>1</td>\n",
              "      <td>0</td>\n",
              "      <td>0</td>\n",
              "      <td>0</td>\n",
              "      <td>1</td>\n",
              "      <td>0</td>\n",
              "      <td>0</td>\n",
              "      <td>0</td>\n",
              "      <td>8294400.0</td>\n",
              "      <td>96.0</td>\n",
              "      <td>1531.0</td>\n",
              "      <td>NaN</td>\n",
              "      <td>12.0</td>\n",
              "      <td>250.0</td>\n",
              "      <td>NaN</td>\n",
              "      <td>480.0</td>\n",
              "      <td>384.0</td>\n",
              "      <td>1250.0</td>\n",
              "      <td>147.0</td>\n",
              "      <td>16.0</td>\n",
              "      <td>343.0</td>\n",
              "      <td>600.0</td>\n",
              "      <td>1199.0</td>\n",
              "    </tr>\n",
              "    <tr>\n",
              "      <th>45</th>\n",
              "      <td>Pascal GP102</td>\n",
              "      <td>1.0</td>\n",
              "      <td>1.0</td>\n",
              "      <td>GeForce Titan XP</td>\n",
              "      <td>4.5</td>\n",
              "      <td>\\n06-Apr-2017</td>\n",
              "      <td>5.0</td>\n",
              "      <td>56.0</td>\n",
              "      <td>0.0</td>\n",
              "      <td>0</td>\n",
              "      <td>0</td>\n",
              "      <td>1</td>\n",
              "      <td>0</td>\n",
              "      <td>0</td>\n",
              "      <td>0</td>\n",
              "      <td>1</td>\n",
              "      <td>0</td>\n",
              "      <td>0</td>\n",
              "      <td>1</td>\n",
              "      <td>8294400.0</td>\n",
              "      <td>96.0</td>\n",
              "      <td>1582.0</td>\n",
              "      <td>NaN</td>\n",
              "      <td>12.0</td>\n",
              "      <td>250.0</td>\n",
              "      <td>12288.0</td>\n",
              "      <td>547.2</td>\n",
              "      <td>96.0</td>\n",
              "      <td>1425.0</td>\n",
              "      <td>152.0</td>\n",
              "      <td>16.0</td>\n",
              "      <td>354.0</td>\n",
              "      <td>600.0</td>\n",
              "      <td>1199.0</td>\n",
              "    </tr>\n",
              "    <tr>\n",
              "      <th>47</th>\n",
              "      <td>Kepler GK110-430-B1 (x2)</td>\n",
              "      <td>2.0</td>\n",
              "      <td>1.0</td>\n",
              "      <td>GeForce GTX Titan Z Palit 12GB Edition</td>\n",
              "      <td>4.5</td>\n",
              "      <td>\\n28-May-2014</td>\n",
              "      <td>5.0</td>\n",
              "      <td>240.0</td>\n",
              "      <td>0.0</td>\n",
              "      <td>0</td>\n",
              "      <td>0</td>\n",
              "      <td>1</td>\n",
              "      <td>0</td>\n",
              "      <td>0</td>\n",
              "      <td>1</td>\n",
              "      <td>0</td>\n",
              "      <td>0</td>\n",
              "      <td>0</td>\n",
              "      <td>1</td>\n",
              "      <td>9216000.0</td>\n",
              "      <td>96.0</td>\n",
              "      <td>876.0</td>\n",
              "      <td>705.0</td>\n",
              "      <td>12.0</td>\n",
              "      <td>375.0</td>\n",
              "      <td>12288.0</td>\n",
              "      <td>672.0</td>\n",
              "      <td>384.0</td>\n",
              "      <td>1750.0</td>\n",
              "      <td>84.0</td>\n",
              "      <td>28.0</td>\n",
              "      <td>420.0</td>\n",
              "      <td>700.0</td>\n",
              "      <td>2999.0</td>\n",
              "    </tr>\n",
              "    <tr>\n",
              "      <th>49</th>\n",
              "      <td>Kepler GK110-430-B1 (x2)</td>\n",
              "      <td>2.0</td>\n",
              "      <td>1.0</td>\n",
              "      <td>GeForce GTX Titan Z</td>\n",
              "      <td>4.5</td>\n",
              "      <td>\\n28-May-2014</td>\n",
              "      <td>5.0</td>\n",
              "      <td>240.0</td>\n",
              "      <td>0.0</td>\n",
              "      <td>0</td>\n",
              "      <td>0</td>\n",
              "      <td>1</td>\n",
              "      <td>0</td>\n",
              "      <td>0</td>\n",
              "      <td>1</td>\n",
              "      <td>0</td>\n",
              "      <td>0</td>\n",
              "      <td>0</td>\n",
              "      <td>1</td>\n",
              "      <td>8294400.0</td>\n",
              "      <td>96.0</td>\n",
              "      <td>876.0</td>\n",
              "      <td>705.0</td>\n",
              "      <td>12.0</td>\n",
              "      <td>375.0</td>\n",
              "      <td>12288.0</td>\n",
              "      <td>672.0</td>\n",
              "      <td>384.0</td>\n",
              "      <td>1750.0</td>\n",
              "      <td>84.0</td>\n",
              "      <td>28.0</td>\n",
              "      <td>420.0</td>\n",
              "      <td>700.0</td>\n",
              "      <td>2999.0</td>\n",
              "    </tr>\n",
              "    <tr>\n",
              "      <th>51</th>\n",
              "      <td>Maxwell GM200-400-A1</td>\n",
              "      <td>1.0</td>\n",
              "      <td>1.0</td>\n",
              "      <td>GeForce GTX Titan X EVGA Hybrid 12GB Edition</td>\n",
              "      <td>4.5</td>\n",
              "      <td>\\n17-Mar-2015</td>\n",
              "      <td>5.0</td>\n",
              "      <td>192.0</td>\n",
              "      <td>0.0</td>\n",
              "      <td>0</td>\n",
              "      <td>0</td>\n",
              "      <td>1</td>\n",
              "      <td>0</td>\n",
              "      <td>0</td>\n",
              "      <td>1</td>\n",
              "      <td>0</td>\n",
              "      <td>0</td>\n",
              "      <td>0</td>\n",
              "      <td>1</td>\n",
              "      <td>8294400.0</td>\n",
              "      <td>96.0</td>\n",
              "      <td>1252.0</td>\n",
              "      <td>1140.0</td>\n",
              "      <td>12.1</td>\n",
              "      <td>250.0</td>\n",
              "      <td>12288.0</td>\n",
              "      <td>336.6</td>\n",
              "      <td>384.0</td>\n",
              "      <td>1753.0</td>\n",
              "      <td>120.0</td>\n",
              "      <td>28.0</td>\n",
              "      <td>240.0</td>\n",
              "      <td>600.0</td>\n",
              "      <td>1099.0</td>\n",
              "    </tr>\n",
              "  </tbody>\n",
              "</table>\n",
              "</div>"
            ],
            "text/plain": [
              "                 Architecture  DVI_Connection  HDMI_Connection  \\\n",
              "42              Pascal GP102              1.0              1.0   \n",
              "45              Pascal GP102              1.0              1.0   \n",
              "47  Kepler GK110-430-B1 (x2)              2.0              1.0   \n",
              "49  Kepler GK110-430-B1 (x2)              2.0              1.0   \n",
              "51      Maxwell GM200-400-A1              1.0              1.0   \n",
              "\n",
              "                                            Name  Open_GL    Release_Date  \\\n",
              "42                           Titan X Pascal 2016      4.5  \\n02-Aug-2016    \n",
              "45                              GeForce Titan XP      4.5  \\n06-Apr-2017    \n",
              "47        GeForce GTX Titan Z Palit 12GB Edition      4.5  \\n28-May-2014    \n",
              "49                           GeForce GTX Titan Z      4.5  \\n28-May-2014    \n",
              "51  GeForce GTX Titan X EVGA Hybrid 12GB Edition      4.5  \\n17-Mar-2015    \n",
              "\n",
              "    Shader   TMUs  VGA_Connection  Manufacturer_AMD  Manufacturer_ATI  \\\n",
              "42     5.0  224.0             0.0                 0                 0   \n",
              "45     5.0   56.0             0.0                 0                 0   \n",
              "47     5.0  240.0             0.0                 0                 0   \n",
              "49     5.0  240.0             0.0                 0                 0   \n",
              "51     5.0  192.0             0.0                 0                 0   \n",
              "\n",
              "    Manufacturer_Nvidia  Memory_Type_DDR3  Memory_Type_GDDR3  \\\n",
              "42                    1                 0                  0   \n",
              "45                    1                 0                  0   \n",
              "47                    1                 0                  0   \n",
              "49                    1                 0                  0   \n",
              "51                    1                 0                  0   \n",
              "\n",
              "    Memory_Type_GDDR5  Memory_Type_GDDR5X  Memory_Type_HBM-1  \\\n",
              "42                  0                   1                  0   \n",
              "45                  0                   1                  0   \n",
              "47                  1                   0                  0   \n",
              "49                  1                   0                  0   \n",
              "51                  1                   0                  0   \n",
              "\n",
              "    Memory_Type_HBM-2  SLI_Crossfire upd  Resolution Pixels  Rops upd  \\\n",
              "42                  0                  0          8294400.0      96.0   \n",
              "45                  0                  1          8294400.0      96.0   \n",
              "47                  0                  1          9216000.0      96.0   \n",
              "49                  0                  1          8294400.0      96.0   \n",
              "51                  0                  1          8294400.0      96.0   \n",
              "\n",
              "    Boost_Clock upd  Core_Speed upd  Direct_X upd  Max_Power GPU  Memory upd  \\\n",
              "42           1531.0             NaN          12.0          250.0         NaN   \n",
              "45           1582.0             NaN          12.0          250.0     12288.0   \n",
              "47            876.0           705.0          12.0          375.0     12288.0   \n",
              "49            876.0           705.0          12.0          375.0     12288.0   \n",
              "51           1252.0          1140.0          12.1          250.0     12288.0   \n",
              "\n",
              "    Memory_Bandwidth  upd  Memory_Bus  upd  Memory_Speed  upd  \\\n",
              "42                  480.0            384.0             1250.0   \n",
              "45                  547.2             96.0             1425.0   \n",
              "47                  672.0            384.0             1750.0   \n",
              "49                  672.0            384.0             1750.0   \n",
              "51                  336.6            384.0             1753.0   \n",
              "\n",
              "    Pixel_Rate  upd  Process  upd  Texture_Rate  upd  Recommended PSU  \\\n",
              "42            147.0          16.0              343.0            600.0   \n",
              "45            152.0          16.0              354.0            600.0   \n",
              "47             84.0          28.0              420.0            700.0   \n",
              "49             84.0          28.0              420.0            700.0   \n",
              "51            120.0          28.0              240.0            600.0   \n",
              "\n",
              "    Release_Price upd  \n",
              "42             1199.0  \n",
              "45             1199.0  \n",
              "47             2999.0  \n",
              "49             2999.0  \n",
              "51             1099.0  "
            ]
          },
          "metadata": {
            "tags": []
          },
          "execution_count": 87
        }
      ]
    },
    {
      "metadata": {
        "id": "Wg7em_cKqUSR",
        "colab_type": "code",
        "outputId": "7449a6d5-21e9-45d3-8f1f-560132ce105c",
        "colab": {
          "base_uri": "https://localhost:8080/",
          "height": 680
        }
      },
      "cell_type": "code",
      "source": [
        "median_value=gpu['Boost_Clock upd'].median()\n",
        "gpu['Boost_Clock upd']=gpu['Boost_Clock upd'].fillna(median_value)\n",
        "median_value=gpu['Shader'].median()\n",
        "gpu['Shader']=gpu['Shader'].fillna(median_value)\n",
        "median_value=gpu['Core_Speed upd'].median()\n",
        "gpu['Core_Speed upd']=gpu['Core_Speed upd'].fillna(median_value)\n",
        "\n",
        "gpu = gpu.dropna() #11 GPus com NaNs removidos\n",
        "gpu.info()"
      ],
      "execution_count": 88,
      "outputs": [
        {
          "output_type": "stream",
          "text": [
            "<class 'pandas.core.frame.DataFrame'>\n",
            "Int64Index: 541 entries, 45 to 3363\n",
            "Data columns (total 34 columns):\n",
            "Architecture             541 non-null object\n",
            "DVI_Connection           541 non-null float64\n",
            "HDMI_Connection          541 non-null float64\n",
            "Name                     541 non-null object\n",
            "Open_GL                  541 non-null float64\n",
            "Release_Date             541 non-null object\n",
            "Shader                   541 non-null float64\n",
            "TMUs                     541 non-null float64\n",
            "VGA_Connection           541 non-null float64\n",
            "Manufacturer_AMD         541 non-null uint8\n",
            "Manufacturer_ATI         541 non-null uint8\n",
            "Manufacturer_Nvidia      541 non-null uint8\n",
            "Memory_Type_DDR3         541 non-null uint8\n",
            "Memory_Type_GDDR3        541 non-null uint8\n",
            "Memory_Type_GDDR5        541 non-null uint8\n",
            "Memory_Type_GDDR5X       541 non-null uint8\n",
            "Memory_Type_HBM-1        541 non-null uint8\n",
            "Memory_Type_HBM-2        541 non-null uint8\n",
            "SLI_Crossfire upd        541 non-null uint8\n",
            "Resolution Pixels        541 non-null float64\n",
            "Rops upd                 541 non-null float64\n",
            "Boost_Clock upd          541 non-null float64\n",
            "Core_Speed upd           541 non-null float64\n",
            "Direct_X upd             541 non-null float64\n",
            "Max_Power GPU            541 non-null float64\n",
            "Memory upd               541 non-null float64\n",
            "Memory_Bandwidth  upd    541 non-null float64\n",
            "Memory_Bus  upd          541 non-null float64\n",
            "Memory_Speed  upd        541 non-null float64\n",
            "Pixel_Rate  upd          541 non-null float64\n",
            "Process  upd             541 non-null float64\n",
            "Texture_Rate  upd        541 non-null float64\n",
            "Recommended PSU          541 non-null float64\n",
            "Release_Price upd        541 non-null float64\n",
            "dtypes: float64(21), object(3), uint8(10)\n",
            "memory usage: 110.9+ KB\n"
          ],
          "name": "stdout"
        }
      ]
    },
    {
      "metadata": {
        "id": "iGbBPEg1aWH1",
        "colab_type": "text"
      },
      "cell_type": "markdown",
      "source": [
        "Em relação aos outliers, decidimos retirar o top 1%, tanto de valores mais baixo como de valores mais altos."
      ]
    },
    {
      "metadata": {
        "id": "FigZCoh4p5jo",
        "colab_type": "code",
        "colab": {}
      },
      "cell_type": "code",
      "source": [
        "gpu_teste = gpu.loc[:, gpu.columns != 'Architecture']\n",
        "gpu_teste = gpu_teste.drop(['Name'], axis=1)\n",
        "gpu_teste = gpu_teste.drop(['Release_Date'], axis=1)\n",
        "\n",
        "low = .01\n",
        "high = .99\n",
        "\n",
        "filt_gpu_teste = gpu_teste.quantile([low, high])"
      ],
      "execution_count": 0,
      "outputs": []
    },
    {
      "metadata": {
        "id": "qKb8G6n49eh1",
        "colab_type": "code",
        "outputId": "e810d2c9-7a35-4d19-b686-56364b775d7e",
        "colab": {
          "base_uri": "https://localhost:8080/",
          "height": 629
        }
      },
      "cell_type": "code",
      "source": [
        "gpu_teste = gpu_teste.apply(lambda x: x[(x>=filt_gpu_teste.loc[low,x.name]) & (x <= filt_gpu_teste.loc[high,x.name])], axis=0)\n",
        "\n",
        "gpu_teste = gpu_teste.dropna() #62 GPUs retiradas OUTLIERS\n",
        "gpu_teste.info()"
      ],
      "execution_count": 90,
      "outputs": [
        {
          "output_type": "stream",
          "text": [
            "<class 'pandas.core.frame.DataFrame'>\n",
            "Int64Index: 479 entries, 45 to 3329\n",
            "Data columns (total 31 columns):\n",
            "DVI_Connection           479 non-null float64\n",
            "HDMI_Connection          479 non-null float64\n",
            "Open_GL                  479 non-null float64\n",
            "Shader                   479 non-null float64\n",
            "TMUs                     479 non-null float64\n",
            "VGA_Connection           479 non-null float64\n",
            "Manufacturer_AMD         479 non-null uint8\n",
            "Manufacturer_ATI         479 non-null uint8\n",
            "Manufacturer_Nvidia      479 non-null uint8\n",
            "Memory_Type_DDR3         479 non-null uint8\n",
            "Memory_Type_GDDR3        479 non-null uint8\n",
            "Memory_Type_GDDR5        479 non-null uint8\n",
            "Memory_Type_GDDR5X       479 non-null uint8\n",
            "Memory_Type_HBM-1        479 non-null float64\n",
            "Memory_Type_HBM-2        479 non-null float64\n",
            "SLI_Crossfire upd        479 non-null uint8\n",
            "Resolution Pixels        479 non-null float64\n",
            "Rops upd                 479 non-null float64\n",
            "Boost_Clock upd          479 non-null float64\n",
            "Core_Speed upd           479 non-null float64\n",
            "Direct_X upd             479 non-null float64\n",
            "Max_Power GPU            479 non-null float64\n",
            "Memory upd               479 non-null float64\n",
            "Memory_Bandwidth  upd    479 non-null float64\n",
            "Memory_Bus  upd          479 non-null float64\n",
            "Memory_Speed  upd        479 non-null float64\n",
            "Pixel_Rate  upd          479 non-null float64\n",
            "Process  upd             479 non-null float64\n",
            "Texture_Rate  upd        479 non-null float64\n",
            "Recommended PSU          479 non-null float64\n",
            "Release_Price upd        479 non-null float64\n",
            "dtypes: float64(23), uint8(8)\n",
            "memory usage: 93.6 KB\n"
          ],
          "name": "stdout"
        }
      ]
    },
    {
      "metadata": {
        "id": "B9XuL9_pfXPT",
        "colab_type": "text"
      },
      "cell_type": "markdown",
      "source": [
        "Como apenas existem 4 GPUs com Memorias do tipo HBM-1 e HBM-2, retiramos, e é feita a matriz de correlação."
      ]
    },
    {
      "metadata": {
        "id": "q5AbgliiE7uK",
        "colab_type": "code",
        "outputId": "3ab1b46f-5c3f-4ed3-b262-9ead2dafbba7",
        "colab": {
          "base_uri": "https://localhost:8080/",
          "height": 1002
        }
      },
      "cell_type": "code",
      "source": [
        "gpu_teste = gpu_teste.drop('Memory_Type_HBM-1', 1)#1% outliers nao vale a pena\n",
        "gpu_teste = gpu_teste.drop('Memory_Type_HBM-2', 1)#1% outliers nao vale a pena\n",
        "gpu_teste.corr()"
      ],
      "execution_count": 91,
      "outputs": [
        {
          "output_type": "execute_result",
          "data": {
            "text/html": [
              "<div>\n",
              "<style scoped>\n",
              "    .dataframe tbody tr th:only-of-type {\n",
              "        vertical-align: middle;\n",
              "    }\n",
              "\n",
              "    .dataframe tbody tr th {\n",
              "        vertical-align: top;\n",
              "    }\n",
              "\n",
              "    .dataframe thead th {\n",
              "        text-align: right;\n",
              "    }\n",
              "</style>\n",
              "<table border=\"1\" class=\"dataframe\">\n",
              "  <thead>\n",
              "    <tr style=\"text-align: right;\">\n",
              "      <th></th>\n",
              "      <th>DVI_Connection</th>\n",
              "      <th>HDMI_Connection</th>\n",
              "      <th>Open_GL</th>\n",
              "      <th>Shader</th>\n",
              "      <th>TMUs</th>\n",
              "      <th>VGA_Connection</th>\n",
              "      <th>Manufacturer_AMD</th>\n",
              "      <th>Manufacturer_ATI</th>\n",
              "      <th>Manufacturer_Nvidia</th>\n",
              "      <th>Memory_Type_DDR3</th>\n",
              "      <th>Memory_Type_GDDR3</th>\n",
              "      <th>Memory_Type_GDDR5</th>\n",
              "      <th>Memory_Type_GDDR5X</th>\n",
              "      <th>SLI_Crossfire upd</th>\n",
              "      <th>Resolution Pixels</th>\n",
              "      <th>Rops upd</th>\n",
              "      <th>Boost_Clock upd</th>\n",
              "      <th>Core_Speed upd</th>\n",
              "      <th>Direct_X upd</th>\n",
              "      <th>Max_Power GPU</th>\n",
              "      <th>Memory upd</th>\n",
              "      <th>Memory_Bandwidth  upd</th>\n",
              "      <th>Memory_Bus  upd</th>\n",
              "      <th>Memory_Speed  upd</th>\n",
              "      <th>Pixel_Rate  upd</th>\n",
              "      <th>Process  upd</th>\n",
              "      <th>Texture_Rate  upd</th>\n",
              "      <th>Recommended PSU</th>\n",
              "      <th>Release_Price upd</th>\n",
              "    </tr>\n",
              "  </thead>\n",
              "  <tbody>\n",
              "    <tr>\n",
              "      <th>DVI_Connection</th>\n",
              "      <td>1.000000</td>\n",
              "      <td>-0.203726</td>\n",
              "      <td>-0.235667</td>\n",
              "      <td>-0.193702</td>\n",
              "      <td>-0.025996</td>\n",
              "      <td>-0.032015</td>\n",
              "      <td>-0.088127</td>\n",
              "      <td>-0.325642</td>\n",
              "      <td>0.319025</td>\n",
              "      <td>-0.020542</td>\n",
              "      <td>0.165900</td>\n",
              "      <td>-0.141244</td>\n",
              "      <td>0.078892</td>\n",
              "      <td>0.498011</td>\n",
              "      <td>0.013048</td>\n",
              "      <td>0.149049</td>\n",
              "      <td>-0.109846</td>\n",
              "      <td>-0.303675</td>\n",
              "      <td>-0.213106</td>\n",
              "      <td>0.342879</td>\n",
              "      <td>-0.228048</td>\n",
              "      <td>0.042503</td>\n",
              "      <td>0.281939</td>\n",
              "      <td>-0.466978</td>\n",
              "      <td>0.019977</td>\n",
              "      <td>0.576762</td>\n",
              "      <td>-0.130411</td>\n",
              "      <td>0.186218</td>\n",
              "      <td>0.204248</td>\n",
              "    </tr>\n",
              "    <tr>\n",
              "      <th>HDMI_Connection</th>\n",
              "      <td>-0.203726</td>\n",
              "      <td>1.000000</td>\n",
              "      <td>0.453587</td>\n",
              "      <td>0.433864</td>\n",
              "      <td>0.151979</td>\n",
              "      <td>-0.087520</td>\n",
              "      <td>0.079192</td>\n",
              "      <td>0.212828</td>\n",
              "      <td>-0.228998</td>\n",
              "      <td>-0.102713</td>\n",
              "      <td>-0.401627</td>\n",
              "      <td>0.282553</td>\n",
              "      <td>-0.003541</td>\n",
              "      <td>-0.129128</td>\n",
              "      <td>0.189245</td>\n",
              "      <td>0.050207</td>\n",
              "      <td>0.147808</td>\n",
              "      <td>0.234529</td>\n",
              "      <td>0.416917</td>\n",
              "      <td>-0.031537</td>\n",
              "      <td>0.341342</td>\n",
              "      <td>0.192537</td>\n",
              "      <td>-0.145763</td>\n",
              "      <td>0.433171</td>\n",
              "      <td>0.137129</td>\n",
              "      <td>-0.514015</td>\n",
              "      <td>0.316727</td>\n",
              "      <td>-0.004781</td>\n",
              "      <td>-0.131343</td>\n",
              "    </tr>\n",
              "    <tr>\n",
              "      <th>Open_GL</th>\n",
              "      <td>-0.235667</td>\n",
              "      <td>0.453587</td>\n",
              "      <td>1.000000</td>\n",
              "      <td>0.976775</td>\n",
              "      <td>0.146987</td>\n",
              "      <td>-0.055358</td>\n",
              "      <td>-0.061151</td>\n",
              "      <td>0.111246</td>\n",
              "      <td>-0.022379</td>\n",
              "      <td>0.007722</td>\n",
              "      <td>-0.878509</td>\n",
              "      <td>0.462587</td>\n",
              "      <td>0.054325</td>\n",
              "      <td>-0.174733</td>\n",
              "      <td>0.199532</td>\n",
              "      <td>0.173134</td>\n",
              "      <td>0.091474</td>\n",
              "      <td>0.396880</td>\n",
              "      <td>0.956543</td>\n",
              "      <td>-0.083352</td>\n",
              "      <td>0.267047</td>\n",
              "      <td>0.194337</td>\n",
              "      <td>-0.229736</td>\n",
              "      <td>0.415897</td>\n",
              "      <td>0.246807</td>\n",
              "      <td>-0.674544</td>\n",
              "      <td>0.265118</td>\n",
              "      <td>-0.066212</td>\n",
              "      <td>-0.007909</td>\n",
              "    </tr>\n",
              "    <tr>\n",
              "      <th>Shader</th>\n",
              "      <td>-0.193702</td>\n",
              "      <td>0.433864</td>\n",
              "      <td>0.976775</td>\n",
              "      <td>1.000000</td>\n",
              "      <td>0.125915</td>\n",
              "      <td>-0.017152</td>\n",
              "      <td>0.043681</td>\n",
              "      <td>0.079381</td>\n",
              "      <td>-0.098835</td>\n",
              "      <td>0.025698</td>\n",
              "      <td>-0.914050</td>\n",
              "      <td>0.485381</td>\n",
              "      <td>0.038765</td>\n",
              "      <td>-0.125564</td>\n",
              "      <td>0.169471</td>\n",
              "      <td>0.148338</td>\n",
              "      <td>0.042165</td>\n",
              "      <td>0.349690</td>\n",
              "      <td>0.918056</td>\n",
              "      <td>-0.059864</td>\n",
              "      <td>0.228298</td>\n",
              "      <td>0.186729</td>\n",
              "      <td>-0.199889</td>\n",
              "      <td>0.343807</td>\n",
              "      <td>0.201430</td>\n",
              "      <td>-0.625010</td>\n",
              "      <td>0.216878</td>\n",
              "      <td>-0.024135</td>\n",
              "      <td>-0.003462</td>\n",
              "    </tr>\n",
              "    <tr>\n",
              "      <th>TMUs</th>\n",
              "      <td>-0.025996</td>\n",
              "      <td>0.151979</td>\n",
              "      <td>0.146987</td>\n",
              "      <td>0.125915</td>\n",
              "      <td>1.000000</td>\n",
              "      <td>-0.304921</td>\n",
              "      <td>-0.180652</td>\n",
              "      <td>0.273122</td>\n",
              "      <td>-0.025981</td>\n",
              "      <td>-0.210257</td>\n",
              "      <td>-0.095390</td>\n",
              "      <td>0.016061</td>\n",
              "      <td>0.197505</td>\n",
              "      <td>0.136298</td>\n",
              "      <td>0.523594</td>\n",
              "      <td>0.612516</td>\n",
              "      <td>-0.077350</td>\n",
              "      <td>0.149397</td>\n",
              "      <td>0.163954</td>\n",
              "      <td>0.617846</td>\n",
              "      <td>0.534979</td>\n",
              "      <td>0.711782</td>\n",
              "      <td>0.740179</td>\n",
              "      <td>0.254386</td>\n",
              "      <td>0.504101</td>\n",
              "      <td>-0.146323</td>\n",
              "      <td>0.685038</td>\n",
              "      <td>0.608718</td>\n",
              "      <td>0.596935</td>\n",
              "    </tr>\n",
              "    <tr>\n",
              "      <th>VGA_Connection</th>\n",
              "      <td>-0.032015</td>\n",
              "      <td>-0.087520</td>\n",
              "      <td>-0.055358</td>\n",
              "      <td>-0.017152</td>\n",
              "      <td>-0.304921</td>\n",
              "      <td>1.000000</td>\n",
              "      <td>0.056239</td>\n",
              "      <td>-0.086873</td>\n",
              "      <td>0.009424</td>\n",
              "      <td>0.523328</td>\n",
              "      <td>0.031884</td>\n",
              "      <td>-0.239549</td>\n",
              "      <td>-0.042424</td>\n",
              "      <td>-0.032896</td>\n",
              "      <td>-0.209991</td>\n",
              "      <td>-0.272032</td>\n",
              "      <td>-0.097884</td>\n",
              "      <td>-0.244916</td>\n",
              "      <td>-0.080204</td>\n",
              "      <td>-0.269642</td>\n",
              "      <td>-0.218152</td>\n",
              "      <td>-0.318827</td>\n",
              "      <td>-0.192161</td>\n",
              "      <td>-0.417422</td>\n",
              "      <td>-0.259983</td>\n",
              "      <td>0.231488</td>\n",
              "      <td>-0.302048</td>\n",
              "      <td>-0.217514</td>\n",
              "      <td>-0.146976</td>\n",
              "    </tr>\n",
              "    <tr>\n",
              "      <th>Manufacturer_AMD</th>\n",
              "      <td>-0.088127</td>\n",
              "      <td>0.079192</td>\n",
              "      <td>-0.061151</td>\n",
              "      <td>0.043681</td>\n",
              "      <td>-0.180652</td>\n",
              "      <td>0.056239</td>\n",
              "      <td>1.000000</td>\n",
              "      <td>-0.308429</td>\n",
              "      <td>-0.726084</td>\n",
              "      <td>-0.002638</td>\n",
              "      <td>-0.093440</td>\n",
              "      <td>0.161469</td>\n",
              "      <td>-0.150617</td>\n",
              "      <td>0.249438</td>\n",
              "      <td>-0.177365</td>\n",
              "      <td>-0.341115</td>\n",
              "      <td>-0.252428</td>\n",
              "      <td>-0.228160</td>\n",
              "      <td>-0.090862</td>\n",
              "      <td>0.027032</td>\n",
              "      <td>-0.075700</td>\n",
              "      <td>-0.063027</td>\n",
              "      <td>-0.110467</td>\n",
              "      <td>-0.108191</td>\n",
              "      <td>-0.396289</td>\n",
              "      <td>-0.022214</td>\n",
              "      <td>-0.126132</td>\n",
              "      <td>0.244850</td>\n",
              "      <td>-0.278241</td>\n",
              "    </tr>\n",
              "    <tr>\n",
              "      <th>Manufacturer_ATI</th>\n",
              "      <td>-0.325642</td>\n",
              "      <td>0.212828</td>\n",
              "      <td>0.111246</td>\n",
              "      <td>0.079381</td>\n",
              "      <td>0.273122</td>\n",
              "      <td>-0.086873</td>\n",
              "      <td>-0.308429</td>\n",
              "      <td>1.000000</td>\n",
              "      <td>-0.430139</td>\n",
              "      <td>-0.059151</td>\n",
              "      <td>-0.071395</td>\n",
              "      <td>0.132517</td>\n",
              "      <td>-0.089227</td>\n",
              "      <td>-0.434940</td>\n",
              "      <td>-0.065829</td>\n",
              "      <td>-0.180691</td>\n",
              "      <td>-0.173633</td>\n",
              "      <td>-0.062363</td>\n",
              "      <td>0.056595</td>\n",
              "      <td>-0.141686</td>\n",
              "      <td>0.165369</td>\n",
              "      <td>0.060675</td>\n",
              "      <td>0.049372</td>\n",
              "      <td>0.256452</td>\n",
              "      <td>-0.162153</td>\n",
              "      <td>-0.367286</td>\n",
              "      <td>0.134718</td>\n",
              "      <td>-0.112511</td>\n",
              "      <td>-0.198460</td>\n",
              "    </tr>\n",
              "    <tr>\n",
              "      <th>Manufacturer_Nvidia</th>\n",
              "      <td>0.319025</td>\n",
              "      <td>-0.228998</td>\n",
              "      <td>-0.022379</td>\n",
              "      <td>-0.098835</td>\n",
              "      <td>-0.025981</td>\n",
              "      <td>0.009424</td>\n",
              "      <td>-0.726084</td>\n",
              "      <td>-0.430139</td>\n",
              "      <td>1.000000</td>\n",
              "      <td>0.045261</td>\n",
              "      <td>0.140285</td>\n",
              "      <td>-0.249028</td>\n",
              "      <td>0.207438</td>\n",
              "      <td>0.077671</td>\n",
              "      <td>0.215909</td>\n",
              "      <td>0.454341</td>\n",
              "      <td>0.365072</td>\n",
              "      <td>0.261609</td>\n",
              "      <td>0.045321</td>\n",
              "      <td>0.076763</td>\n",
              "      <td>-0.047695</td>\n",
              "      <td>0.015955</td>\n",
              "      <td>0.069148</td>\n",
              "      <td>-0.082699</td>\n",
              "      <td>0.493302</td>\n",
              "      <td>0.286573</td>\n",
              "      <td>0.022323</td>\n",
              "      <td>-0.151042</td>\n",
              "      <td>0.407516</td>\n",
              "    </tr>\n",
              "    <tr>\n",
              "      <th>Memory_Type_DDR3</th>\n",
              "      <td>-0.020542</td>\n",
              "      <td>-0.102713</td>\n",
              "      <td>0.007722</td>\n",
              "      <td>0.025698</td>\n",
              "      <td>-0.210257</td>\n",
              "      <td>0.523328</td>\n",
              "      <td>-0.002638</td>\n",
              "      <td>-0.059151</td>\n",
              "      <td>0.045261</td>\n",
              "      <td>1.000000</td>\n",
              "      <td>-0.023113</td>\n",
              "      <td>-0.446363</td>\n",
              "      <td>-0.028886</td>\n",
              "      <td>-0.045578</td>\n",
              "      <td>-0.159007</td>\n",
              "      <td>-0.174409</td>\n",
              "      <td>-0.050012</td>\n",
              "      <td>-0.161252</td>\n",
              "      <td>-0.021157</td>\n",
              "      <td>-0.184427</td>\n",
              "      <td>-0.128559</td>\n",
              "      <td>-0.238316</td>\n",
              "      <td>-0.110026</td>\n",
              "      <td>-0.312732</td>\n",
              "      <td>-0.169522</td>\n",
              "      <td>0.134402</td>\n",
              "      <td>-0.206100</td>\n",
              "      <td>-0.141208</td>\n",
              "      <td>-0.125237</td>\n",
              "    </tr>\n",
              "    <tr>\n",
              "      <th>Memory_Type_GDDR3</th>\n",
              "      <td>0.165900</td>\n",
              "      <td>-0.401627</td>\n",
              "      <td>-0.878509</td>\n",
              "      <td>-0.914050</td>\n",
              "      <td>-0.095390</td>\n",
              "      <td>0.031884</td>\n",
              "      <td>-0.093440</td>\n",
              "      <td>-0.071395</td>\n",
              "      <td>0.140285</td>\n",
              "      <td>-0.023113</td>\n",
              "      <td>1.000000</td>\n",
              "      <td>-0.538759</td>\n",
              "      <td>-0.034865</td>\n",
              "      <td>0.108550</td>\n",
              "      <td>-0.160393</td>\n",
              "      <td>-0.124672</td>\n",
              "      <td>-0.037923</td>\n",
              "      <td>-0.340062</td>\n",
              "      <td>-0.832296</td>\n",
              "      <td>0.060912</td>\n",
              "      <td>-0.203028</td>\n",
              "      <td>-0.169967</td>\n",
              "      <td>0.216014</td>\n",
              "      <td>-0.303648</td>\n",
              "      <td>-0.180358</td>\n",
              "      <td>0.590010</td>\n",
              "      <td>-0.189651</td>\n",
              "      <td>0.014411</td>\n",
              "      <td>0.018219</td>\n",
              "    </tr>\n",
              "    <tr>\n",
              "      <th>Memory_Type_GDDR5</th>\n",
              "      <td>-0.141244</td>\n",
              "      <td>0.282553</td>\n",
              "      <td>0.462587</td>\n",
              "      <td>0.485381</td>\n",
              "      <td>0.016061</td>\n",
              "      <td>-0.239549</td>\n",
              "      <td>0.161469</td>\n",
              "      <td>0.132517</td>\n",
              "      <td>-0.249028</td>\n",
              "      <td>-0.446363</td>\n",
              "      <td>-0.538759</td>\n",
              "      <td>1.000000</td>\n",
              "      <td>-0.673325</td>\n",
              "      <td>-0.144559</td>\n",
              "      <td>-0.177297</td>\n",
              "      <td>-0.094205</td>\n",
              "      <td>-0.199060</td>\n",
              "      <td>-0.014096</td>\n",
              "      <td>0.432765</td>\n",
              "      <td>-0.071084</td>\n",
              "      <td>-0.102316</td>\n",
              "      <td>-0.090768</td>\n",
              "      <td>-0.062223</td>\n",
              "      <td>0.460350</td>\n",
              "      <td>-0.149992</td>\n",
              "      <td>-0.304598</td>\n",
              "      <td>-0.161043</td>\n",
              "      <td>-0.060929</td>\n",
              "      <td>-0.252379</td>\n",
              "    </tr>\n",
              "    <tr>\n",
              "      <th>Memory_Type_GDDR5X</th>\n",
              "      <td>0.078892</td>\n",
              "      <td>-0.003541</td>\n",
              "      <td>0.054325</td>\n",
              "      <td>0.038765</td>\n",
              "      <td>0.197505</td>\n",
              "      <td>-0.042424</td>\n",
              "      <td>-0.150617</td>\n",
              "      <td>-0.089227</td>\n",
              "      <td>0.207438</td>\n",
              "      <td>-0.028886</td>\n",
              "      <td>-0.034865</td>\n",
              "      <td>-0.673325</td>\n",
              "      <td>1.000000</td>\n",
              "      <td>0.147162</td>\n",
              "      <td>0.488927</td>\n",
              "      <td>0.352872</td>\n",
              "      <td>0.346223</td>\n",
              "      <td>0.405641</td>\n",
              "      <td>0.078555</td>\n",
              "      <td>0.176220</td>\n",
              "      <td>0.396870</td>\n",
              "      <td>0.428188</td>\n",
              "      <td>-0.012811</td>\n",
              "      <td>-0.191973</td>\n",
              "      <td>0.473673</td>\n",
              "      <td>-0.139832</td>\n",
              "      <td>0.521678</td>\n",
              "      <td>0.170299</td>\n",
              "      <td>0.427071</td>\n",
              "    </tr>\n",
              "    <tr>\n",
              "      <th>SLI_Crossfire upd</th>\n",
              "      <td>0.498011</td>\n",
              "      <td>-0.129128</td>\n",
              "      <td>-0.174733</td>\n",
              "      <td>-0.125564</td>\n",
              "      <td>0.136298</td>\n",
              "      <td>-0.032896</td>\n",
              "      <td>0.249438</td>\n",
              "      <td>-0.434940</td>\n",
              "      <td>0.077671</td>\n",
              "      <td>-0.045578</td>\n",
              "      <td>0.108550</td>\n",
              "      <td>-0.144559</td>\n",
              "      <td>0.147162</td>\n",
              "      <td>1.000000</td>\n",
              "      <td>0.249851</td>\n",
              "      <td>0.302456</td>\n",
              "      <td>-0.285319</td>\n",
              "      <td>-0.299166</td>\n",
              "      <td>-0.150756</td>\n",
              "      <td>0.514545</td>\n",
              "      <td>0.021450</td>\n",
              "      <td>0.283828</td>\n",
              "      <td>0.289163</td>\n",
              "      <td>-0.359176</td>\n",
              "      <td>0.114124</td>\n",
              "      <td>0.501563</td>\n",
              "      <td>0.149058</td>\n",
              "      <td>0.515717</td>\n",
              "      <td>0.355899</td>\n",
              "    </tr>\n",
              "    <tr>\n",
              "      <th>Resolution Pixels</th>\n",
              "      <td>0.013048</td>\n",
              "      <td>0.189245</td>\n",
              "      <td>0.199532</td>\n",
              "      <td>0.169471</td>\n",
              "      <td>0.523594</td>\n",
              "      <td>-0.209991</td>\n",
              "      <td>-0.177365</td>\n",
              "      <td>-0.065829</td>\n",
              "      <td>0.215909</td>\n",
              "      <td>-0.159007</td>\n",
              "      <td>-0.160393</td>\n",
              "      <td>-0.177297</td>\n",
              "      <td>0.488927</td>\n",
              "      <td>0.249851</td>\n",
              "      <td>1.000000</td>\n",
              "      <td>0.783925</td>\n",
              "      <td>0.281480</td>\n",
              "      <td>0.436470</td>\n",
              "      <td>0.236773</td>\n",
              "      <td>0.537648</td>\n",
              "      <td>0.824290</td>\n",
              "      <td>0.829562</td>\n",
              "      <td>0.264851</td>\n",
              "      <td>0.306177</td>\n",
              "      <td>0.797070</td>\n",
              "      <td>-0.235767</td>\n",
              "      <td>0.851525</td>\n",
              "      <td>0.544519</td>\n",
              "      <td>0.679508</td>\n",
              "    </tr>\n",
              "    <tr>\n",
              "      <th>Rops upd</th>\n",
              "      <td>0.149049</td>\n",
              "      <td>0.050207</td>\n",
              "      <td>0.173134</td>\n",
              "      <td>0.148338</td>\n",
              "      <td>0.612516</td>\n",
              "      <td>-0.272032</td>\n",
              "      <td>-0.341115</td>\n",
              "      <td>-0.180691</td>\n",
              "      <td>0.454341</td>\n",
              "      <td>-0.174409</td>\n",
              "      <td>-0.124672</td>\n",
              "      <td>-0.094205</td>\n",
              "      <td>0.352872</td>\n",
              "      <td>0.302456</td>\n",
              "      <td>0.783925</td>\n",
              "      <td>1.000000</td>\n",
              "      <td>0.233468</td>\n",
              "      <td>0.348629</td>\n",
              "      <td>0.243575</td>\n",
              "      <td>0.670970</td>\n",
              "      <td>0.575866</td>\n",
              "      <td>0.801228</td>\n",
              "      <td>0.525722</td>\n",
              "      <td>0.218433</td>\n",
              "      <td>0.919802</td>\n",
              "      <td>-0.045542</td>\n",
              "      <td>0.704174</td>\n",
              "      <td>0.574161</td>\n",
              "      <td>0.796952</td>\n",
              "    </tr>\n",
              "    <tr>\n",
              "      <th>Boost_Clock upd</th>\n",
              "      <td>-0.109846</td>\n",
              "      <td>0.147808</td>\n",
              "      <td>0.091474</td>\n",
              "      <td>0.042165</td>\n",
              "      <td>-0.077350</td>\n",
              "      <td>-0.097884</td>\n",
              "      <td>-0.252428</td>\n",
              "      <td>-0.173633</td>\n",
              "      <td>0.365072</td>\n",
              "      <td>-0.050012</td>\n",
              "      <td>-0.037923</td>\n",
              "      <td>-0.199060</td>\n",
              "      <td>0.346223</td>\n",
              "      <td>-0.285319</td>\n",
              "      <td>0.281480</td>\n",
              "      <td>0.233468</td>\n",
              "      <td>1.000000</td>\n",
              "      <td>0.668048</td>\n",
              "      <td>0.120511</td>\n",
              "      <td>-0.149597</td>\n",
              "      <td>0.337940</td>\n",
              "      <td>0.097246</td>\n",
              "      <td>-0.201936</td>\n",
              "      <td>0.327225</td>\n",
              "      <td>0.534514</td>\n",
              "      <td>-0.336738</td>\n",
              "      <td>0.292413</td>\n",
              "      <td>-0.239218</td>\n",
              "      <td>0.061947</td>\n",
              "    </tr>\n",
              "    <tr>\n",
              "      <th>Core_Speed upd</th>\n",
              "      <td>-0.303675</td>\n",
              "      <td>0.234529</td>\n",
              "      <td>0.396880</td>\n",
              "      <td>0.349690</td>\n",
              "      <td>0.149397</td>\n",
              "      <td>-0.244916</td>\n",
              "      <td>-0.228160</td>\n",
              "      <td>-0.062363</td>\n",
              "      <td>0.261609</td>\n",
              "      <td>-0.161252</td>\n",
              "      <td>-0.340062</td>\n",
              "      <td>-0.014096</td>\n",
              "      <td>0.405641</td>\n",
              "      <td>-0.299166</td>\n",
              "      <td>0.436470</td>\n",
              "      <td>0.348629</td>\n",
              "      <td>0.668048</td>\n",
              "      <td>1.000000</td>\n",
              "      <td>0.454660</td>\n",
              "      <td>-0.121931</td>\n",
              "      <td>0.520755</td>\n",
              "      <td>0.267077</td>\n",
              "      <td>-0.239617</td>\n",
              "      <td>0.583047</td>\n",
              "      <td>0.621966</td>\n",
              "      <td>-0.635353</td>\n",
              "      <td>0.474251</td>\n",
              "      <td>-0.164443</td>\n",
              "      <td>0.164573</td>\n",
              "    </tr>\n",
              "    <tr>\n",
              "      <th>Direct_X upd</th>\n",
              "      <td>-0.213106</td>\n",
              "      <td>0.416917</td>\n",
              "      <td>0.956543</td>\n",
              "      <td>0.918056</td>\n",
              "      <td>0.163954</td>\n",
              "      <td>-0.080204</td>\n",
              "      <td>-0.090862</td>\n",
              "      <td>0.056595</td>\n",
              "      <td>0.045321</td>\n",
              "      <td>-0.021157</td>\n",
              "      <td>-0.832296</td>\n",
              "      <td>0.432765</td>\n",
              "      <td>0.078555</td>\n",
              "      <td>-0.150756</td>\n",
              "      <td>0.236773</td>\n",
              "      <td>0.243575</td>\n",
              "      <td>0.120511</td>\n",
              "      <td>0.454660</td>\n",
              "      <td>1.000000</td>\n",
              "      <td>-0.056524</td>\n",
              "      <td>0.292096</td>\n",
              "      <td>0.238554</td>\n",
              "      <td>-0.182257</td>\n",
              "      <td>0.439179</td>\n",
              "      <td>0.324324</td>\n",
              "      <td>-0.667265</td>\n",
              "      <td>0.288339</td>\n",
              "      <td>-0.048259</td>\n",
              "      <td>0.023454</td>\n",
              "    </tr>\n",
              "    <tr>\n",
              "      <th>Max_Power GPU</th>\n",
              "      <td>0.342879</td>\n",
              "      <td>-0.031537</td>\n",
              "      <td>-0.083352</td>\n",
              "      <td>-0.059864</td>\n",
              "      <td>0.617846</td>\n",
              "      <td>-0.269642</td>\n",
              "      <td>0.027032</td>\n",
              "      <td>-0.141686</td>\n",
              "      <td>0.076763</td>\n",
              "      <td>-0.184427</td>\n",
              "      <td>0.060912</td>\n",
              "      <td>-0.071084</td>\n",
              "      <td>0.176220</td>\n",
              "      <td>0.514545</td>\n",
              "      <td>0.537648</td>\n",
              "      <td>0.670970</td>\n",
              "      <td>-0.149597</td>\n",
              "      <td>-0.121931</td>\n",
              "      <td>-0.056524</td>\n",
              "      <td>1.000000</td>\n",
              "      <td>0.370015</td>\n",
              "      <td>0.757220</td>\n",
              "      <td>0.723088</td>\n",
              "      <td>-0.094214</td>\n",
              "      <td>0.442997</td>\n",
              "      <td>0.269316</td>\n",
              "      <td>0.539829</td>\n",
              "      <td>0.858863</td>\n",
              "      <td>0.721809</td>\n",
              "    </tr>\n",
              "    <tr>\n",
              "      <th>Memory upd</th>\n",
              "      <td>-0.228048</td>\n",
              "      <td>0.341342</td>\n",
              "      <td>0.267047</td>\n",
              "      <td>0.228298</td>\n",
              "      <td>0.534979</td>\n",
              "      <td>-0.218152</td>\n",
              "      <td>-0.075700</td>\n",
              "      <td>0.165369</td>\n",
              "      <td>-0.047695</td>\n",
              "      <td>-0.128559</td>\n",
              "      <td>-0.203028</td>\n",
              "      <td>-0.102316</td>\n",
              "      <td>0.396870</td>\n",
              "      <td>0.021450</td>\n",
              "      <td>0.824290</td>\n",
              "      <td>0.575866</td>\n",
              "      <td>0.337940</td>\n",
              "      <td>0.520755</td>\n",
              "      <td>0.292096</td>\n",
              "      <td>0.370015</td>\n",
              "      <td>1.000000</td>\n",
              "      <td>0.772091</td>\n",
              "      <td>0.186495</td>\n",
              "      <td>0.508164</td>\n",
              "      <td>0.655898</td>\n",
              "      <td>-0.498576</td>\n",
              "      <td>0.856016</td>\n",
              "      <td>0.416149</td>\n",
              "      <td>0.452231</td>\n",
              "    </tr>\n",
              "    <tr>\n",
              "      <th>Memory_Bandwidth  upd</th>\n",
              "      <td>0.042503</td>\n",
              "      <td>0.192537</td>\n",
              "      <td>0.194337</td>\n",
              "      <td>0.186729</td>\n",
              "      <td>0.711782</td>\n",
              "      <td>-0.318827</td>\n",
              "      <td>-0.063027</td>\n",
              "      <td>0.060675</td>\n",
              "      <td>0.015955</td>\n",
              "      <td>-0.238316</td>\n",
              "      <td>-0.169967</td>\n",
              "      <td>-0.090768</td>\n",
              "      <td>0.428188</td>\n",
              "      <td>0.283828</td>\n",
              "      <td>0.829562</td>\n",
              "      <td>0.801228</td>\n",
              "      <td>0.097246</td>\n",
              "      <td>0.267077</td>\n",
              "      <td>0.238554</td>\n",
              "      <td>0.757220</td>\n",
              "      <td>0.772091</td>\n",
              "      <td>1.000000</td>\n",
              "      <td>0.523991</td>\n",
              "      <td>0.286186</td>\n",
              "      <td>0.731857</td>\n",
              "      <td>-0.241147</td>\n",
              "      <td>0.902561</td>\n",
              "      <td>0.737158</td>\n",
              "      <td>0.712106</td>\n",
              "    </tr>\n",
              "    <tr>\n",
              "      <th>Memory_Bus  upd</th>\n",
              "      <td>0.281939</td>\n",
              "      <td>-0.145763</td>\n",
              "      <td>-0.229736</td>\n",
              "      <td>-0.199889</td>\n",
              "      <td>0.740179</td>\n",
              "      <td>-0.192161</td>\n",
              "      <td>-0.110467</td>\n",
              "      <td>0.049372</td>\n",
              "      <td>0.069148</td>\n",
              "      <td>-0.110026</td>\n",
              "      <td>0.216014</td>\n",
              "      <td>-0.062223</td>\n",
              "      <td>-0.012811</td>\n",
              "      <td>0.289163</td>\n",
              "      <td>0.264851</td>\n",
              "      <td>0.525722</td>\n",
              "      <td>-0.201936</td>\n",
              "      <td>-0.239617</td>\n",
              "      <td>-0.182257</td>\n",
              "      <td>0.723088</td>\n",
              "      <td>0.186495</td>\n",
              "      <td>0.523991</td>\n",
              "      <td>1.000000</td>\n",
              "      <td>-0.166146</td>\n",
              "      <td>0.291808</td>\n",
              "      <td>0.361611</td>\n",
              "      <td>0.276842</td>\n",
              "      <td>0.657459</td>\n",
              "      <td>0.552226</td>\n",
              "    </tr>\n",
              "    <tr>\n",
              "      <th>Memory_Speed  upd</th>\n",
              "      <td>-0.466978</td>\n",
              "      <td>0.433171</td>\n",
              "      <td>0.415897</td>\n",
              "      <td>0.343807</td>\n",
              "      <td>0.254386</td>\n",
              "      <td>-0.417422</td>\n",
              "      <td>-0.108191</td>\n",
              "      <td>0.256452</td>\n",
              "      <td>-0.082699</td>\n",
              "      <td>-0.312732</td>\n",
              "      <td>-0.303648</td>\n",
              "      <td>0.460350</td>\n",
              "      <td>-0.191973</td>\n",
              "      <td>-0.359176</td>\n",
              "      <td>0.306177</td>\n",
              "      <td>0.218433</td>\n",
              "      <td>0.327225</td>\n",
              "      <td>0.583047</td>\n",
              "      <td>0.439179</td>\n",
              "      <td>-0.094214</td>\n",
              "      <td>0.508164</td>\n",
              "      <td>0.286186</td>\n",
              "      <td>-0.166146</td>\n",
              "      <td>1.000000</td>\n",
              "      <td>0.386260</td>\n",
              "      <td>-0.751408</td>\n",
              "      <td>0.438601</td>\n",
              "      <td>-0.086834</td>\n",
              "      <td>-0.060244</td>\n",
              "    </tr>\n",
              "    <tr>\n",
              "      <th>Pixel_Rate  upd</th>\n",
              "      <td>0.019977</td>\n",
              "      <td>0.137129</td>\n",
              "      <td>0.246807</td>\n",
              "      <td>0.201430</td>\n",
              "      <td>0.504101</td>\n",
              "      <td>-0.259983</td>\n",
              "      <td>-0.396289</td>\n",
              "      <td>-0.162153</td>\n",
              "      <td>0.493302</td>\n",
              "      <td>-0.169522</td>\n",
              "      <td>-0.180358</td>\n",
              "      <td>-0.149992</td>\n",
              "      <td>0.473673</td>\n",
              "      <td>0.114124</td>\n",
              "      <td>0.797070</td>\n",
              "      <td>0.919802</td>\n",
              "      <td>0.534514</td>\n",
              "      <td>0.621966</td>\n",
              "      <td>0.324324</td>\n",
              "      <td>0.442997</td>\n",
              "      <td>0.655898</td>\n",
              "      <td>0.731857</td>\n",
              "      <td>0.291808</td>\n",
              "      <td>0.386260</td>\n",
              "      <td>1.000000</td>\n",
              "      <td>-0.269895</td>\n",
              "      <td>0.758776</td>\n",
              "      <td>0.355628</td>\n",
              "      <td>0.678671</td>\n",
              "    </tr>\n",
              "    <tr>\n",
              "      <th>Process  upd</th>\n",
              "      <td>0.576762</td>\n",
              "      <td>-0.514015</td>\n",
              "      <td>-0.674544</td>\n",
              "      <td>-0.625010</td>\n",
              "      <td>-0.146323</td>\n",
              "      <td>0.231488</td>\n",
              "      <td>-0.022214</td>\n",
              "      <td>-0.367286</td>\n",
              "      <td>0.286573</td>\n",
              "      <td>0.134402</td>\n",
              "      <td>0.590010</td>\n",
              "      <td>-0.304598</td>\n",
              "      <td>-0.139832</td>\n",
              "      <td>0.501563</td>\n",
              "      <td>-0.235767</td>\n",
              "      <td>-0.045542</td>\n",
              "      <td>-0.336738</td>\n",
              "      <td>-0.635353</td>\n",
              "      <td>-0.667265</td>\n",
              "      <td>0.269316</td>\n",
              "      <td>-0.498576</td>\n",
              "      <td>-0.241147</td>\n",
              "      <td>0.361611</td>\n",
              "      <td>-0.751408</td>\n",
              "      <td>-0.269895</td>\n",
              "      <td>1.000000</td>\n",
              "      <td>-0.444206</td>\n",
              "      <td>0.186495</td>\n",
              "      <td>0.157389</td>\n",
              "    </tr>\n",
              "    <tr>\n",
              "      <th>Texture_Rate  upd</th>\n",
              "      <td>-0.130411</td>\n",
              "      <td>0.316727</td>\n",
              "      <td>0.265118</td>\n",
              "      <td>0.216878</td>\n",
              "      <td>0.685038</td>\n",
              "      <td>-0.302048</td>\n",
              "      <td>-0.126132</td>\n",
              "      <td>0.134718</td>\n",
              "      <td>0.022323</td>\n",
              "      <td>-0.206100</td>\n",
              "      <td>-0.189651</td>\n",
              "      <td>-0.161043</td>\n",
              "      <td>0.521678</td>\n",
              "      <td>0.149058</td>\n",
              "      <td>0.851525</td>\n",
              "      <td>0.704174</td>\n",
              "      <td>0.292413</td>\n",
              "      <td>0.474251</td>\n",
              "      <td>0.288339</td>\n",
              "      <td>0.539829</td>\n",
              "      <td>0.856016</td>\n",
              "      <td>0.902561</td>\n",
              "      <td>0.276842</td>\n",
              "      <td>0.438601</td>\n",
              "      <td>0.758776</td>\n",
              "      <td>-0.444206</td>\n",
              "      <td>1.000000</td>\n",
              "      <td>0.554879</td>\n",
              "      <td>0.617383</td>\n",
              "    </tr>\n",
              "    <tr>\n",
              "      <th>Recommended PSU</th>\n",
              "      <td>0.186218</td>\n",
              "      <td>-0.004781</td>\n",
              "      <td>-0.066212</td>\n",
              "      <td>-0.024135</td>\n",
              "      <td>0.608718</td>\n",
              "      <td>-0.217514</td>\n",
              "      <td>0.244850</td>\n",
              "      <td>-0.112511</td>\n",
              "      <td>-0.151042</td>\n",
              "      <td>-0.141208</td>\n",
              "      <td>0.014411</td>\n",
              "      <td>-0.060929</td>\n",
              "      <td>0.170299</td>\n",
              "      <td>0.515717</td>\n",
              "      <td>0.544519</td>\n",
              "      <td>0.574161</td>\n",
              "      <td>-0.239218</td>\n",
              "      <td>-0.164443</td>\n",
              "      <td>-0.048259</td>\n",
              "      <td>0.858863</td>\n",
              "      <td>0.416149</td>\n",
              "      <td>0.737158</td>\n",
              "      <td>0.657459</td>\n",
              "      <td>-0.086834</td>\n",
              "      <td>0.355628</td>\n",
              "      <td>0.186495</td>\n",
              "      <td>0.554879</td>\n",
              "      <td>1.000000</td>\n",
              "      <td>0.636561</td>\n",
              "    </tr>\n",
              "    <tr>\n",
              "      <th>Release_Price upd</th>\n",
              "      <td>0.204248</td>\n",
              "      <td>-0.131343</td>\n",
              "      <td>-0.007909</td>\n",
              "      <td>-0.003462</td>\n",
              "      <td>0.596935</td>\n",
              "      <td>-0.146976</td>\n",
              "      <td>-0.278241</td>\n",
              "      <td>-0.198460</td>\n",
              "      <td>0.407516</td>\n",
              "      <td>-0.125237</td>\n",
              "      <td>0.018219</td>\n",
              "      <td>-0.252379</td>\n",
              "      <td>0.427071</td>\n",
              "      <td>0.355899</td>\n",
              "      <td>0.679508</td>\n",
              "      <td>0.796952</td>\n",
              "      <td>0.061947</td>\n",
              "      <td>0.164573</td>\n",
              "      <td>0.023454</td>\n",
              "      <td>0.721809</td>\n",
              "      <td>0.452231</td>\n",
              "      <td>0.712106</td>\n",
              "      <td>0.552226</td>\n",
              "      <td>-0.060244</td>\n",
              "      <td>0.678671</td>\n",
              "      <td>0.157389</td>\n",
              "      <td>0.617383</td>\n",
              "      <td>0.636561</td>\n",
              "      <td>1.000000</td>\n",
              "    </tr>\n",
              "  </tbody>\n",
              "</table>\n",
              "</div>"
            ],
            "text/plain": [
              "                       DVI_Connection  HDMI_Connection   Open_GL    Shader  \\\n",
              "DVI_Connection               1.000000        -0.203726 -0.235667 -0.193702   \n",
              "HDMI_Connection             -0.203726         1.000000  0.453587  0.433864   \n",
              "Open_GL                     -0.235667         0.453587  1.000000  0.976775   \n",
              "Shader                      -0.193702         0.433864  0.976775  1.000000   \n",
              "TMUs                        -0.025996         0.151979  0.146987  0.125915   \n",
              "VGA_Connection              -0.032015        -0.087520 -0.055358 -0.017152   \n",
              "Manufacturer_AMD            -0.088127         0.079192 -0.061151  0.043681   \n",
              "Manufacturer_ATI            -0.325642         0.212828  0.111246  0.079381   \n",
              "Manufacturer_Nvidia          0.319025        -0.228998 -0.022379 -0.098835   \n",
              "Memory_Type_DDR3            -0.020542        -0.102713  0.007722  0.025698   \n",
              "Memory_Type_GDDR3            0.165900        -0.401627 -0.878509 -0.914050   \n",
              "Memory_Type_GDDR5           -0.141244         0.282553  0.462587  0.485381   \n",
              "Memory_Type_GDDR5X           0.078892        -0.003541  0.054325  0.038765   \n",
              "SLI_Crossfire upd            0.498011        -0.129128 -0.174733 -0.125564   \n",
              "Resolution Pixels            0.013048         0.189245  0.199532  0.169471   \n",
              "Rops upd                     0.149049         0.050207  0.173134  0.148338   \n",
              "Boost_Clock upd             -0.109846         0.147808  0.091474  0.042165   \n",
              "Core_Speed upd              -0.303675         0.234529  0.396880  0.349690   \n",
              "Direct_X upd                -0.213106         0.416917  0.956543  0.918056   \n",
              "Max_Power GPU                0.342879        -0.031537 -0.083352 -0.059864   \n",
              "Memory upd                  -0.228048         0.341342  0.267047  0.228298   \n",
              "Memory_Bandwidth  upd        0.042503         0.192537  0.194337  0.186729   \n",
              "Memory_Bus  upd              0.281939        -0.145763 -0.229736 -0.199889   \n",
              "Memory_Speed  upd           -0.466978         0.433171  0.415897  0.343807   \n",
              "Pixel_Rate  upd              0.019977         0.137129  0.246807  0.201430   \n",
              "Process  upd                 0.576762        -0.514015 -0.674544 -0.625010   \n",
              "Texture_Rate  upd           -0.130411         0.316727  0.265118  0.216878   \n",
              "Recommended PSU              0.186218        -0.004781 -0.066212 -0.024135   \n",
              "Release_Price upd            0.204248        -0.131343 -0.007909 -0.003462   \n",
              "\n",
              "                           TMUs  VGA_Connection  Manufacturer_AMD  \\\n",
              "DVI_Connection        -0.025996       -0.032015         -0.088127   \n",
              "HDMI_Connection        0.151979       -0.087520          0.079192   \n",
              "Open_GL                0.146987       -0.055358         -0.061151   \n",
              "Shader                 0.125915       -0.017152          0.043681   \n",
              "TMUs                   1.000000       -0.304921         -0.180652   \n",
              "VGA_Connection        -0.304921        1.000000          0.056239   \n",
              "Manufacturer_AMD      -0.180652        0.056239          1.000000   \n",
              "Manufacturer_ATI       0.273122       -0.086873         -0.308429   \n",
              "Manufacturer_Nvidia   -0.025981        0.009424         -0.726084   \n",
              "Memory_Type_DDR3      -0.210257        0.523328         -0.002638   \n",
              "Memory_Type_GDDR3     -0.095390        0.031884         -0.093440   \n",
              "Memory_Type_GDDR5      0.016061       -0.239549          0.161469   \n",
              "Memory_Type_GDDR5X     0.197505       -0.042424         -0.150617   \n",
              "SLI_Crossfire upd      0.136298       -0.032896          0.249438   \n",
              "Resolution Pixels      0.523594       -0.209991         -0.177365   \n",
              "Rops upd               0.612516       -0.272032         -0.341115   \n",
              "Boost_Clock upd       -0.077350       -0.097884         -0.252428   \n",
              "Core_Speed upd         0.149397       -0.244916         -0.228160   \n",
              "Direct_X upd           0.163954       -0.080204         -0.090862   \n",
              "Max_Power GPU          0.617846       -0.269642          0.027032   \n",
              "Memory upd             0.534979       -0.218152         -0.075700   \n",
              "Memory_Bandwidth  upd  0.711782       -0.318827         -0.063027   \n",
              "Memory_Bus  upd        0.740179       -0.192161         -0.110467   \n",
              "Memory_Speed  upd      0.254386       -0.417422         -0.108191   \n",
              "Pixel_Rate  upd        0.504101       -0.259983         -0.396289   \n",
              "Process  upd          -0.146323        0.231488         -0.022214   \n",
              "Texture_Rate  upd      0.685038       -0.302048         -0.126132   \n",
              "Recommended PSU        0.608718       -0.217514          0.244850   \n",
              "Release_Price upd      0.596935       -0.146976         -0.278241   \n",
              "\n",
              "                       Manufacturer_ATI  Manufacturer_Nvidia  \\\n",
              "DVI_Connection                -0.325642             0.319025   \n",
              "HDMI_Connection                0.212828            -0.228998   \n",
              "Open_GL                        0.111246            -0.022379   \n",
              "Shader                         0.079381            -0.098835   \n",
              "TMUs                           0.273122            -0.025981   \n",
              "VGA_Connection                -0.086873             0.009424   \n",
              "Manufacturer_AMD              -0.308429            -0.726084   \n",
              "Manufacturer_ATI               1.000000            -0.430139   \n",
              "Manufacturer_Nvidia           -0.430139             1.000000   \n",
              "Memory_Type_DDR3              -0.059151             0.045261   \n",
              "Memory_Type_GDDR3             -0.071395             0.140285   \n",
              "Memory_Type_GDDR5              0.132517            -0.249028   \n",
              "Memory_Type_GDDR5X            -0.089227             0.207438   \n",
              "SLI_Crossfire upd             -0.434940             0.077671   \n",
              "Resolution Pixels             -0.065829             0.215909   \n",
              "Rops upd                      -0.180691             0.454341   \n",
              "Boost_Clock upd               -0.173633             0.365072   \n",
              "Core_Speed upd                -0.062363             0.261609   \n",
              "Direct_X upd                   0.056595             0.045321   \n",
              "Max_Power GPU                 -0.141686             0.076763   \n",
              "Memory upd                     0.165369            -0.047695   \n",
              "Memory_Bandwidth  upd          0.060675             0.015955   \n",
              "Memory_Bus  upd                0.049372             0.069148   \n",
              "Memory_Speed  upd              0.256452            -0.082699   \n",
              "Pixel_Rate  upd               -0.162153             0.493302   \n",
              "Process  upd                  -0.367286             0.286573   \n",
              "Texture_Rate  upd              0.134718             0.022323   \n",
              "Recommended PSU               -0.112511            -0.151042   \n",
              "Release_Price upd             -0.198460             0.407516   \n",
              "\n",
              "                       Memory_Type_DDR3  Memory_Type_GDDR3  Memory_Type_GDDR5  \\\n",
              "DVI_Connection                -0.020542           0.165900          -0.141244   \n",
              "HDMI_Connection               -0.102713          -0.401627           0.282553   \n",
              "Open_GL                        0.007722          -0.878509           0.462587   \n",
              "Shader                         0.025698          -0.914050           0.485381   \n",
              "TMUs                          -0.210257          -0.095390           0.016061   \n",
              "VGA_Connection                 0.523328           0.031884          -0.239549   \n",
              "Manufacturer_AMD              -0.002638          -0.093440           0.161469   \n",
              "Manufacturer_ATI              -0.059151          -0.071395           0.132517   \n",
              "Manufacturer_Nvidia            0.045261           0.140285          -0.249028   \n",
              "Memory_Type_DDR3               1.000000          -0.023113          -0.446363   \n",
              "Memory_Type_GDDR3             -0.023113           1.000000          -0.538759   \n",
              "Memory_Type_GDDR5             -0.446363          -0.538759           1.000000   \n",
              "Memory_Type_GDDR5X            -0.028886          -0.034865          -0.673325   \n",
              "SLI_Crossfire upd             -0.045578           0.108550          -0.144559   \n",
              "Resolution Pixels             -0.159007          -0.160393          -0.177297   \n",
              "Rops upd                      -0.174409          -0.124672          -0.094205   \n",
              "Boost_Clock upd               -0.050012          -0.037923          -0.199060   \n",
              "Core_Speed upd                -0.161252          -0.340062          -0.014096   \n",
              "Direct_X upd                  -0.021157          -0.832296           0.432765   \n",
              "Max_Power GPU                 -0.184427           0.060912          -0.071084   \n",
              "Memory upd                    -0.128559          -0.203028          -0.102316   \n",
              "Memory_Bandwidth  upd         -0.238316          -0.169967          -0.090768   \n",
              "Memory_Bus  upd               -0.110026           0.216014          -0.062223   \n",
              "Memory_Speed  upd             -0.312732          -0.303648           0.460350   \n",
              "Pixel_Rate  upd               -0.169522          -0.180358          -0.149992   \n",
              "Process  upd                   0.134402           0.590010          -0.304598   \n",
              "Texture_Rate  upd             -0.206100          -0.189651          -0.161043   \n",
              "Recommended PSU               -0.141208           0.014411          -0.060929   \n",
              "Release_Price upd             -0.125237           0.018219          -0.252379   \n",
              "\n",
              "                       Memory_Type_GDDR5X  SLI_Crossfire upd  \\\n",
              "DVI_Connection                   0.078892           0.498011   \n",
              "HDMI_Connection                 -0.003541          -0.129128   \n",
              "Open_GL                          0.054325          -0.174733   \n",
              "Shader                           0.038765          -0.125564   \n",
              "TMUs                             0.197505           0.136298   \n",
              "VGA_Connection                  -0.042424          -0.032896   \n",
              "Manufacturer_AMD                -0.150617           0.249438   \n",
              "Manufacturer_ATI                -0.089227          -0.434940   \n",
              "Manufacturer_Nvidia              0.207438           0.077671   \n",
              "Memory_Type_DDR3                -0.028886          -0.045578   \n",
              "Memory_Type_GDDR3               -0.034865           0.108550   \n",
              "Memory_Type_GDDR5               -0.673325          -0.144559   \n",
              "Memory_Type_GDDR5X               1.000000           0.147162   \n",
              "SLI_Crossfire upd                0.147162           1.000000   \n",
              "Resolution Pixels                0.488927           0.249851   \n",
              "Rops upd                         0.352872           0.302456   \n",
              "Boost_Clock upd                  0.346223          -0.285319   \n",
              "Core_Speed upd                   0.405641          -0.299166   \n",
              "Direct_X upd                     0.078555          -0.150756   \n",
              "Max_Power GPU                    0.176220           0.514545   \n",
              "Memory upd                       0.396870           0.021450   \n",
              "Memory_Bandwidth  upd            0.428188           0.283828   \n",
              "Memory_Bus  upd                 -0.012811           0.289163   \n",
              "Memory_Speed  upd               -0.191973          -0.359176   \n",
              "Pixel_Rate  upd                  0.473673           0.114124   \n",
              "Process  upd                    -0.139832           0.501563   \n",
              "Texture_Rate  upd                0.521678           0.149058   \n",
              "Recommended PSU                  0.170299           0.515717   \n",
              "Release_Price upd                0.427071           0.355899   \n",
              "\n",
              "                       Resolution Pixels  Rops upd  Boost_Clock upd  \\\n",
              "DVI_Connection                  0.013048  0.149049        -0.109846   \n",
              "HDMI_Connection                 0.189245  0.050207         0.147808   \n",
              "Open_GL                         0.199532  0.173134         0.091474   \n",
              "Shader                          0.169471  0.148338         0.042165   \n",
              "TMUs                            0.523594  0.612516        -0.077350   \n",
              "VGA_Connection                 -0.209991 -0.272032        -0.097884   \n",
              "Manufacturer_AMD               -0.177365 -0.341115        -0.252428   \n",
              "Manufacturer_ATI               -0.065829 -0.180691        -0.173633   \n",
              "Manufacturer_Nvidia             0.215909  0.454341         0.365072   \n",
              "Memory_Type_DDR3               -0.159007 -0.174409        -0.050012   \n",
              "Memory_Type_GDDR3              -0.160393 -0.124672        -0.037923   \n",
              "Memory_Type_GDDR5              -0.177297 -0.094205        -0.199060   \n",
              "Memory_Type_GDDR5X              0.488927  0.352872         0.346223   \n",
              "SLI_Crossfire upd               0.249851  0.302456        -0.285319   \n",
              "Resolution Pixels               1.000000  0.783925         0.281480   \n",
              "Rops upd                        0.783925  1.000000         0.233468   \n",
              "Boost_Clock upd                 0.281480  0.233468         1.000000   \n",
              "Core_Speed upd                  0.436470  0.348629         0.668048   \n",
              "Direct_X upd                    0.236773  0.243575         0.120511   \n",
              "Max_Power GPU                   0.537648  0.670970        -0.149597   \n",
              "Memory upd                      0.824290  0.575866         0.337940   \n",
              "Memory_Bandwidth  upd           0.829562  0.801228         0.097246   \n",
              "Memory_Bus  upd                 0.264851  0.525722        -0.201936   \n",
              "Memory_Speed  upd               0.306177  0.218433         0.327225   \n",
              "Pixel_Rate  upd                 0.797070  0.919802         0.534514   \n",
              "Process  upd                   -0.235767 -0.045542        -0.336738   \n",
              "Texture_Rate  upd               0.851525  0.704174         0.292413   \n",
              "Recommended PSU                 0.544519  0.574161        -0.239218   \n",
              "Release_Price upd               0.679508  0.796952         0.061947   \n",
              "\n",
              "                       Core_Speed upd  Direct_X upd  Max_Power GPU  \\\n",
              "DVI_Connection              -0.303675     -0.213106       0.342879   \n",
              "HDMI_Connection              0.234529      0.416917      -0.031537   \n",
              "Open_GL                      0.396880      0.956543      -0.083352   \n",
              "Shader                       0.349690      0.918056      -0.059864   \n",
              "TMUs                         0.149397      0.163954       0.617846   \n",
              "VGA_Connection              -0.244916     -0.080204      -0.269642   \n",
              "Manufacturer_AMD            -0.228160     -0.090862       0.027032   \n",
              "Manufacturer_ATI            -0.062363      0.056595      -0.141686   \n",
              "Manufacturer_Nvidia          0.261609      0.045321       0.076763   \n",
              "Memory_Type_DDR3            -0.161252     -0.021157      -0.184427   \n",
              "Memory_Type_GDDR3           -0.340062     -0.832296       0.060912   \n",
              "Memory_Type_GDDR5           -0.014096      0.432765      -0.071084   \n",
              "Memory_Type_GDDR5X           0.405641      0.078555       0.176220   \n",
              "SLI_Crossfire upd           -0.299166     -0.150756       0.514545   \n",
              "Resolution Pixels            0.436470      0.236773       0.537648   \n",
              "Rops upd                     0.348629      0.243575       0.670970   \n",
              "Boost_Clock upd              0.668048      0.120511      -0.149597   \n",
              "Core_Speed upd               1.000000      0.454660      -0.121931   \n",
              "Direct_X upd                 0.454660      1.000000      -0.056524   \n",
              "Max_Power GPU               -0.121931     -0.056524       1.000000   \n",
              "Memory upd                   0.520755      0.292096       0.370015   \n",
              "Memory_Bandwidth  upd        0.267077      0.238554       0.757220   \n",
              "Memory_Bus  upd             -0.239617     -0.182257       0.723088   \n",
              "Memory_Speed  upd            0.583047      0.439179      -0.094214   \n",
              "Pixel_Rate  upd              0.621966      0.324324       0.442997   \n",
              "Process  upd                -0.635353     -0.667265       0.269316   \n",
              "Texture_Rate  upd            0.474251      0.288339       0.539829   \n",
              "Recommended PSU             -0.164443     -0.048259       0.858863   \n",
              "Release_Price upd            0.164573      0.023454       0.721809   \n",
              "\n",
              "                       Memory upd  Memory_Bandwidth  upd  Memory_Bus  upd  \\\n",
              "DVI_Connection          -0.228048               0.042503         0.281939   \n",
              "HDMI_Connection          0.341342               0.192537        -0.145763   \n",
              "Open_GL                  0.267047               0.194337        -0.229736   \n",
              "Shader                   0.228298               0.186729        -0.199889   \n",
              "TMUs                     0.534979               0.711782         0.740179   \n",
              "VGA_Connection          -0.218152              -0.318827        -0.192161   \n",
              "Manufacturer_AMD        -0.075700              -0.063027        -0.110467   \n",
              "Manufacturer_ATI         0.165369               0.060675         0.049372   \n",
              "Manufacturer_Nvidia     -0.047695               0.015955         0.069148   \n",
              "Memory_Type_DDR3        -0.128559              -0.238316        -0.110026   \n",
              "Memory_Type_GDDR3       -0.203028              -0.169967         0.216014   \n",
              "Memory_Type_GDDR5       -0.102316              -0.090768        -0.062223   \n",
              "Memory_Type_GDDR5X       0.396870               0.428188        -0.012811   \n",
              "SLI_Crossfire upd        0.021450               0.283828         0.289163   \n",
              "Resolution Pixels        0.824290               0.829562         0.264851   \n",
              "Rops upd                 0.575866               0.801228         0.525722   \n",
              "Boost_Clock upd          0.337940               0.097246        -0.201936   \n",
              "Core_Speed upd           0.520755               0.267077        -0.239617   \n",
              "Direct_X upd             0.292096               0.238554        -0.182257   \n",
              "Max_Power GPU            0.370015               0.757220         0.723088   \n",
              "Memory upd               1.000000               0.772091         0.186495   \n",
              "Memory_Bandwidth  upd    0.772091               1.000000         0.523991   \n",
              "Memory_Bus  upd          0.186495               0.523991         1.000000   \n",
              "Memory_Speed  upd        0.508164               0.286186        -0.166146   \n",
              "Pixel_Rate  upd          0.655898               0.731857         0.291808   \n",
              "Process  upd            -0.498576              -0.241147         0.361611   \n",
              "Texture_Rate  upd        0.856016               0.902561         0.276842   \n",
              "Recommended PSU          0.416149               0.737158         0.657459   \n",
              "Release_Price upd        0.452231               0.712106         0.552226   \n",
              "\n",
              "                       Memory_Speed  upd  Pixel_Rate  upd  Process  upd  \\\n",
              "DVI_Connection                 -0.466978         0.019977      0.576762   \n",
              "HDMI_Connection                 0.433171         0.137129     -0.514015   \n",
              "Open_GL                         0.415897         0.246807     -0.674544   \n",
              "Shader                          0.343807         0.201430     -0.625010   \n",
              "TMUs                            0.254386         0.504101     -0.146323   \n",
              "VGA_Connection                 -0.417422        -0.259983      0.231488   \n",
              "Manufacturer_AMD               -0.108191        -0.396289     -0.022214   \n",
              "Manufacturer_ATI                0.256452        -0.162153     -0.367286   \n",
              "Manufacturer_Nvidia            -0.082699         0.493302      0.286573   \n",
              "Memory_Type_DDR3               -0.312732        -0.169522      0.134402   \n",
              "Memory_Type_GDDR3              -0.303648        -0.180358      0.590010   \n",
              "Memory_Type_GDDR5               0.460350        -0.149992     -0.304598   \n",
              "Memory_Type_GDDR5X             -0.191973         0.473673     -0.139832   \n",
              "SLI_Crossfire upd              -0.359176         0.114124      0.501563   \n",
              "Resolution Pixels               0.306177         0.797070     -0.235767   \n",
              "Rops upd                        0.218433         0.919802     -0.045542   \n",
              "Boost_Clock upd                 0.327225         0.534514     -0.336738   \n",
              "Core_Speed upd                  0.583047         0.621966     -0.635353   \n",
              "Direct_X upd                    0.439179         0.324324     -0.667265   \n",
              "Max_Power GPU                  -0.094214         0.442997      0.269316   \n",
              "Memory upd                      0.508164         0.655898     -0.498576   \n",
              "Memory_Bandwidth  upd           0.286186         0.731857     -0.241147   \n",
              "Memory_Bus  upd                -0.166146         0.291808      0.361611   \n",
              "Memory_Speed  upd               1.000000         0.386260     -0.751408   \n",
              "Pixel_Rate  upd                 0.386260         1.000000     -0.269895   \n",
              "Process  upd                   -0.751408        -0.269895      1.000000   \n",
              "Texture_Rate  upd               0.438601         0.758776     -0.444206   \n",
              "Recommended PSU                -0.086834         0.355628      0.186495   \n",
              "Release_Price upd              -0.060244         0.678671      0.157389   \n",
              "\n",
              "                       Texture_Rate  upd  Recommended PSU  Release_Price upd  \n",
              "DVI_Connection                 -0.130411         0.186218           0.204248  \n",
              "HDMI_Connection                 0.316727        -0.004781          -0.131343  \n",
              "Open_GL                         0.265118        -0.066212          -0.007909  \n",
              "Shader                          0.216878        -0.024135          -0.003462  \n",
              "TMUs                            0.685038         0.608718           0.596935  \n",
              "VGA_Connection                 -0.302048        -0.217514          -0.146976  \n",
              "Manufacturer_AMD               -0.126132         0.244850          -0.278241  \n",
              "Manufacturer_ATI                0.134718        -0.112511          -0.198460  \n",
              "Manufacturer_Nvidia             0.022323        -0.151042           0.407516  \n",
              "Memory_Type_DDR3               -0.206100        -0.141208          -0.125237  \n",
              "Memory_Type_GDDR3              -0.189651         0.014411           0.018219  \n",
              "Memory_Type_GDDR5              -0.161043        -0.060929          -0.252379  \n",
              "Memory_Type_GDDR5X              0.521678         0.170299           0.427071  \n",
              "SLI_Crossfire upd               0.149058         0.515717           0.355899  \n",
              "Resolution Pixels               0.851525         0.544519           0.679508  \n",
              "Rops upd                        0.704174         0.574161           0.796952  \n",
              "Boost_Clock upd                 0.292413        -0.239218           0.061947  \n",
              "Core_Speed upd                  0.474251        -0.164443           0.164573  \n",
              "Direct_X upd                    0.288339        -0.048259           0.023454  \n",
              "Max_Power GPU                   0.539829         0.858863           0.721809  \n",
              "Memory upd                      0.856016         0.416149           0.452231  \n",
              "Memory_Bandwidth  upd           0.902561         0.737158           0.712106  \n",
              "Memory_Bus  upd                 0.276842         0.657459           0.552226  \n",
              "Memory_Speed  upd               0.438601        -0.086834          -0.060244  \n",
              "Pixel_Rate  upd                 0.758776         0.355628           0.678671  \n",
              "Process  upd                   -0.444206         0.186495           0.157389  \n",
              "Texture_Rate  upd               1.000000         0.554879           0.617383  \n",
              "Recommended PSU                 0.554879         1.000000           0.636561  \n",
              "Release_Price upd               0.617383         0.636561           1.000000  "
            ]
          },
          "metadata": {
            "tags": []
          },
          "execution_count": 91
        }
      ]
    },
    {
      "metadata": {
        "id": "uPoLAysCf6xT",
        "colab_type": "text"
      },
      "cell_type": "markdown",
      "source": [
        "Histogramas"
      ]
    },
    {
      "metadata": {
        "id": "zQtTvuEXP6sf",
        "colab_type": "code",
        "outputId": "5e581bc2-8c39-43e7-c448-bc4ac8f708f6",
        "colab": {
          "base_uri": "https://localhost:8080/",
          "height": 1677
        }
      },
      "cell_type": "code",
      "source": [
        "fig = plt.figure(figsize = (15,20))\n",
        "ax = fig.gca()\n",
        "gpu_teste.hist(ax = ax)"
      ],
      "execution_count": 92,
      "outputs": [
        {
          "output_type": "execute_result",
          "data": {
            "text/plain": [
              "array([[<matplotlib.axes._subplots.AxesSubplot object at 0x7f0d10cf0550>,\n",
              "        <matplotlib.axes._subplots.AxesSubplot object at 0x7f0d10c09890>,\n",
              "        <matplotlib.axes._subplots.AxesSubplot object at 0x7f0d10c40650>,\n",
              "        <matplotlib.axes._subplots.AxesSubplot object at 0x7f0d10bf6410>,\n",
              "        <matplotlib.axes._subplots.AxesSubplot object at 0x7f0d10bb01d0>],\n",
              "       [<matplotlib.axes._subplots.AxesSubplot object at 0x7f0d10b5f5d0>,\n",
              "        <matplotlib.axes._subplots.AxesSubplot object at 0x7f0d10b1a390>,\n",
              "        <matplotlib.axes._subplots.AxesSubplot object at 0x7f0d10ad3150>,\n",
              "        <matplotlib.axes._subplots.AxesSubplot object at 0x7f0d10a83ed0>,\n",
              "        <matplotlib.axes._subplots.AxesSubplot object at 0x7f0d10abcc90>],\n",
              "       [<matplotlib.axes._subplots.AxesSubplot object at 0x7f0d10a75a50>,\n",
              "        <matplotlib.axes._subplots.AxesSubplot object at 0x7f0d10a2fc10>,\n",
              "        <matplotlib.axes._subplots.AxesSubplot object at 0x7f0d109e6dd0>,\n",
              "        <matplotlib.axes._subplots.AxesSubplot object at 0x7f0d1099df90>,\n",
              "        <matplotlib.axes._subplots.AxesSubplot object at 0x7f0d10960190>],\n",
              "       [<matplotlib.axes._subplots.AxesSubplot object at 0x7f0d10919350>,\n",
              "        <matplotlib.axes._subplots.AxesSubplot object at 0x7f0d108cf510>,\n",
              "        <matplotlib.axes._subplots.AxesSubplot object at 0x7f0d108876d0>,\n",
              "        <matplotlib.axes._subplots.AxesSubplot object at 0x7f0d108c0890>,\n",
              "        <matplotlib.axes._subplots.AxesSubplot object at 0x7f0d10879a50>],\n",
              "       [<matplotlib.axes._subplots.AxesSubplot object at 0x7f0d10830c10>,\n",
              "        <matplotlib.axes._subplots.AxesSubplot object at 0x7f0d107e6dd0>,\n",
              "        <matplotlib.axes._subplots.AxesSubplot object at 0x7f0d1079ff90>,\n",
              "        <matplotlib.axes._subplots.AxesSubplot object at 0x7f0d10761190>,\n",
              "        <matplotlib.axes._subplots.AxesSubplot object at 0x7f0d10717350>],\n",
              "       [<matplotlib.axes._subplots.AxesSubplot object at 0x7f0d106d2510>,\n",
              "        <matplotlib.axes._subplots.AxesSubplot object at 0x7f0d106896d0>,\n",
              "        <matplotlib.axes._subplots.AxesSubplot object at 0x7f0d106bf890>,\n",
              "        <matplotlib.axes._subplots.AxesSubplot object at 0x7f0d10676a50>,\n",
              "        <matplotlib.axes._subplots.AxesSubplot object at 0x7f0d1062ec10>]],\n",
              "      dtype=object)"
            ]
          },
          "metadata": {
            "tags": []
          },
          "execution_count": 92
        },
        {
          "output_type": "display_data",
          "data": {
            "image/png": "[encoded data removed]",
            "text/plain": [
              "<Figure size 1080x1440 with 30 Axes>"
            ]
          },
          "metadata": {
            "tags": []
          }
        }
      ]
    },
    {
      "metadata": {
        "id": "6HDvYmypWY2i",
        "colab_type": "text"
      },
      "cell_type": "markdown",
      "source": [
        "Para análise do nosso target (Release Price), algumas features saltam logo a vista, como o Boost Clock ou Core Speed, já que representa imenso a capacidade da gráfica, mas tambem é necessário analisar outras features porque uma gráfica que possa ter sido lançada à 5 anos e outra lançada à 1 ano podem ter o mesmo Release Price por serem de gerações e épocas diferentes.\n",
        "\n",
        "Poderiamos \"limpar\" melhor a nosso dataset, mas como já temos poucas Rows (479), se ainda diminuirmos ainda mais o dataset poderá ser ainda pior.\n",
        "\n",
        "\n",
        "\n"
      ]
    },
    {
      "metadata": {
        "id": "PHR4nJC1BG7t",
        "colab_type": "text"
      },
      "cell_type": "markdown",
      "source": [
        "### Parte 2"
      ]
    },
    {
      "metadata": {
        "id": "7kRfkuZhQs3Z",
        "colab_type": "code",
        "colab": {}
      },
      "cell_type": "code",
      "source": [
        "#IMPORTS\n",
        "import numpy as np\n",
        "import matplotlib.pyplot as plt\n",
        "from sklearn import metrics\n",
        "from sklearn.datasets import load_iris\n",
        "from sklearn.ensemble import RandomForestRegressor\n",
        "from sklearn.datasets import load_digits\n",
        "from sklearn.model_selection import learning_curve\n",
        "from sklearn.linear_model import LinearRegression\n",
        "from sklearn.model_selection import train_test_split\n",
        "from sklearn import datasets, linear_model\n",
        "from sklearn.metrics import mean_squared_error, r2_score\n",
        "\n",
        "np.random.seed(0)\n"
      ],
      "execution_count": 0,
      "outputs": []
    },
    {
      "metadata": {
        "id": "sLXatLHgGng2",
        "colab_type": "code",
        "colab": {}
      },
      "cell_type": "code",
      "source": [
        "targets = np.array(gpu_teste['Release_Price upd'])\n",
        "gpu_teste = gpu_teste.drop('Release_Price upd', axis = 1)\n",
        "feature_list = list(gpu_teste.columns)\n",
        "gpu_testee = np.array(gpu_teste)"
      ],
      "execution_count": 0,
      "outputs": []
    },
    {
      "metadata": {
        "id": "nHgsUWQafyvw",
        "colab_type": "text"
      },
      "cell_type": "markdown",
      "source": [
        "Vamos criar a Learning Curve"
      ]
    },
    {
      "metadata": {
        "id": "2tejSFARxPFO",
        "colab_type": "code",
        "colab": {}
      },
      "cell_type": "code",
      "source": [
        "\n",
        "train_sizes = [50, 100, 150, 200, 250, 300, 350]\n",
        "\n",
        "train_sizes, train_scores, validation_scores = learning_curve(\n",
        "                                                   estimator = LinearRegression(), X = gpu_testee,\n",
        "                                                   y = targets, train_sizes = train_sizes, cv = 10,\n",
        "                                                   scoring = 'neg_median_absolute_error')\n",
        "\n",
        "train_sizess, train_scoress, validation_scoress = learning_curve(\n",
        "                                                   estimator = RandomForestRegressor(), X = gpu_testee,\n",
        "                                                   y = targets, train_sizes = train_sizes, cv = 10,\n",
        "                                                   scoring = 'neg_median_absolute_error')"
      ],
      "execution_count": 0,
      "outputs": []
    },
    {
      "metadata": {
        "id": "TtzrFTG1zyn1",
        "colab_type": "code",
        "colab": {}
      },
      "cell_type": "code",
      "source": [
        "train_scores_mean = -train_scores.mean(axis = 1)\n",
        "validation_scores_mean = -validation_scores.mean(axis = 1)\n",
        "\n",
        "train_scores_meann = -train_scoress.mean(axis = 1)\n",
        "validation_scores_meann = -validation_scoress.mean(axis = 1)"
      ],
      "execution_count": 0,
      "outputs": []
    },
    {
      "metadata": {
        "id": "Lypfgulz1Ls8",
        "colab_type": "code",
        "outputId": "ff8e00ae-694d-4c21-f920-a5343a045bb7",
        "colab": {
          "base_uri": "https://localhost:8080/",
          "height": 410
        }
      },
      "cell_type": "code",
      "source": [
        "%matplotlib inline\n",
        "\n",
        "plt.style.use('seaborn')\n",
        "\n",
        "plt.plot(train_sizes, train_scores_mean, label = 'Training error')\n",
        "plt.plot(train_sizes, validation_scores_mean, label = 'Validation error')\n",
        "\n",
        "plt.ylabel('median absolute error', fontsize = 14)\n",
        "plt.xlabel('Training set size', fontsize = 14)\n",
        "plt.title('Learning curves for a linear regression model', fontsize = 18, y = 1.03)\n",
        "plt.legend()\n",
        "plt.ylim(0,350)"
      ],
      "execution_count": 97,
      "outputs": [
        {
          "output_type": "execute_result",
          "data": {
            "text/plain": [
              "(0, 350)"
            ]
          },
          "metadata": {
            "tags": []
          },
          "execution_count": 97
        },
        {
          "output_type": "display_data",
          "data": {
            "image/png": "[encoded data removed]",
            "text/plain": [
              "<Figure size 576x396 with 1 Axes>"
            ]
          },
          "metadata": {
            "tags": []
          }
        }
      ]
    },
    {
      "metadata": {
        "id": "Zb7CvglSNg3Z",
        "colab_type": "code",
        "outputId": "1f60a391-692f-4cb9-d043-f1f14d63b9e4",
        "colab": {
          "base_uri": "https://localhost:8080/",
          "height": 410
        }
      },
      "cell_type": "code",
      "source": [
        "import matplotlib.pyplot as plt\n",
        "%matplotlib inline\n",
        "\n",
        "plt.style.use('seaborn')\n",
        "\n",
        "plt.plot(train_sizess, train_scores_meann, label = 'Training error')\n",
        "plt.plot(train_sizess, validation_scores_meann, label = 'Validation error')\n",
        "\n",
        "plt.ylabel('median absolute error', fontsize = 14)\n",
        "plt.xlabel('Training set size', fontsize = 14)\n",
        "plt.title('Learning curves for a Random Forest Tree model', fontsize = 18, y = 1.03)\n",
        "plt.legend()\n",
        "plt.ylim(0,350)"
      ],
      "execution_count": 98,
      "outputs": [
        {
          "output_type": "execute_result",
          "data": {
            "text/plain": [
              "(0, 350)"
            ]
          },
          "metadata": {
            "tags": []
          },
          "execution_count": 98
        },
        {
          "output_type": "display_data",
          "data": {
            "image/png": "[encoded data removed]",
            "text/plain": [
              "<Figure size 576x396 with 1 Axes>"
            ]
          },
          "metadata": {
            "tags": []
          }
        }
      ]
    },
    {
      "metadata": {
        "id": "uqF16BD_Y742",
        "colab_type": "text"
      },
      "cell_type": "markdown",
      "source": [
        "Podemos observar que para a Regressão Linear quanto maior o training size é, melhor.\n",
        "\n",
        "Enquanto que para o RandomForest a partir das 300 já começa a existir o overfitting.\n",
        "\n",
        "Como existe uma maior diferença Para a Regressão Linear, utilizaremos 360 como training set size (75%)."
      ]
    },
    {
      "metadata": {
        "id": "LyDFdAvdN6Iu",
        "colab_type": "text"
      },
      "cell_type": "markdown",
      "source": [
        "Random Forest"
      ]
    },
    {
      "metadata": {
        "id": "l9TcVR1mKQVk",
        "colab_type": "code",
        "outputId": "58d5a90e-d80c-4714-adcc-ef20bbc18edf",
        "colab": {
          "base_uri": "https://localhost:8080/",
          "height": 85
        }
      },
      "cell_type": "code",
      "source": [
        "#split\n",
        "train_features, test_features, train_labels, test_labels = train_test_split(gpu_testee, targets, test_size = 0.25, random_state = 42)\n",
        "\n",
        "display('Training Features Shape:'+ str(train_features.shape))\n",
        "display('Training Labels Shape:'+ str(train_labels.shape))\n",
        "display('Testing Features Shape:'+ str(test_features.shape))\n",
        "display('Testing Labels Shape:'+ str(test_labels.shape))"
      ],
      "execution_count": 99,
      "outputs": [
        {
          "output_type": "display_data",
          "data": {
            "text/plain": [
              "'Training Features Shape:(359, 28)'"
            ]
          },
          "metadata": {
            "tags": []
          }
        },
        {
          "output_type": "display_data",
          "data": {
            "text/plain": [
              "'Training Labels Shape:(359,)'"
            ]
          },
          "metadata": {
            "tags": []
          }
        },
        {
          "output_type": "display_data",
          "data": {
            "text/plain": [
              "'Testing Features Shape:(120, 28)'"
            ]
          },
          "metadata": {
            "tags": []
          }
        },
        {
          "output_type": "display_data",
          "data": {
            "text/plain": [
              "'Testing Labels Shape:(120,)'"
            ]
          },
          "metadata": {
            "tags": []
          }
        }
      ]
    },
    {
      "metadata": {
        "id": "VK6QftXZScHb",
        "colab_type": "code",
        "colab": {}
      },
      "cell_type": "code",
      "source": [
        "# Instantiate model with 1000 decision trees\n",
        "\n",
        "rf = RandomForestRegressor(n_estimators = 1000, random_state = 42)\n",
        "\n",
        "rf.fit(train_features, train_labels);"
      ],
      "execution_count": 0,
      "outputs": []
    },
    {
      "metadata": {
        "id": "kKMHO32Fd5_S",
        "colab_type": "code",
        "outputId": "52882506-f13c-4439-d8aa-bc2fd93729a2",
        "colab": {
          "base_uri": "https://localhost:8080/",
          "height": 51
        }
      },
      "cell_type": "code",
      "source": [
        "predictions = rf.predict(test_features)\n",
        "# Calculate the absolute errors\n",
        "errors = abs(predictions - test_labels)\n",
        "\n",
        "display('Erro medio: '+str(round((np.mean(errors)), 2))+'$')\n"
      ],
      "execution_count": 101,
      "outputs": [
        {
          "output_type": "display_data",
          "data": {
            "text/plain": [
              "'Erro medio: 33.73$'"
            ]
          },
          "metadata": {
            "tags": []
          }
        },
        {
          "output_type": "display_data",
          "data": {
            "text/plain": [
              "'Erro medio: 33.73$'"
            ]
          },
          "metadata": {
            "tags": []
          }
        }
      ]
    },
    {
      "metadata": {
        "id": "Lk6144D1fVgR",
        "colab_type": "code",
        "outputId": "38851a39-1233-4ba2-9723-331d4ce0b3c9",
        "colab": {
          "base_uri": "https://localhost:8080/",
          "height": 51
        }
      },
      "cell_type": "code",
      "source": [
        "# Calculate mean absolute percentage error (MAPE)\n",
        "mape = 100 * (errors / test_labels)\n",
        "# Calculate and display accuracy\n",
        "accuracy = 100 - np.mean(mape)\n",
        "display('Accuracy: '+ str(round(accuracy, 2))+ '%.')"
      ],
      "execution_count": 102,
      "outputs": [
        {
          "output_type": "display_data",
          "data": {
            "text/plain": [
              "'Accuracy: 87.79%.'"
            ]
          },
          "metadata": {
            "tags": []
          }
        },
        {
          "output_type": "display_data",
          "data": {
            "text/plain": [
              "'Accuracy: 87.79%.'"
            ]
          },
          "metadata": {
            "tags": []
          }
        }
      ]
    },
    {
      "metadata": {
        "id": "fKrS3qE0r7re",
        "colab_type": "code",
        "outputId": "68666fe3-b9ac-4b81-c765-aaa4ca92c4bf",
        "colab": {
          "base_uri": "https://localhost:8080/",
          "height": 51
        }
      },
      "cell_type": "code",
      "source": [
        "display(\"RMSE: \"+ str(np.sqrt(metrics.mean_squared_error(predictions, test_labels))))"
      ],
      "execution_count": 103,
      "outputs": [
        {
          "output_type": "display_data",
          "data": {
            "text/plain": [
              "'RMSE: 65.48631504933462'"
            ]
          },
          "metadata": {
            "tags": []
          }
        },
        {
          "output_type": "display_data",
          "data": {
            "text/plain": [
              "'RMSE: 65.48631504933462'"
            ]
          },
          "metadata": {
            "tags": []
          }
        }
      ]
    },
    {
      "metadata": {
        "id": "LHVao9k9s3t_",
        "colab_type": "code",
        "outputId": "058a8785-9277-47e9-e55b-9d1ae014f238",
        "colab": {
          "base_uri": "https://localhost:8080/",
          "height": 739
        }
      },
      "cell_type": "code",
      "source": [
        "\n",
        "Values = pd.DataFrame({'Prediction':predictions, 'Real':test_labels})\n",
        "Values = Values.sort_values(['Prediction'], ascending=[True])\n",
        "Values.plot('Prediction', 'Real', kind='scatter')"
      ],
      "execution_count": 104,
      "outputs": [
        {
          "output_type": "execute_result",
          "data": {
            "text/plain": [
              "<matplotlib.axes._subplots.AxesSubplot at 0x7f0d11e319d0>"
            ]
          },
          "metadata": {
            "tags": []
          },
          "execution_count": 69
        },
        {
          "output_type": "display_data",
          "data": {
            "image/png": "[encoded data removed]",
            "text/plain": [
              "<Figure size 576x396 with 1 Axes>"
            ]
          },
          "metadata": {
            "tags": []
          }
        },
        {
          "output_type": "execute_result",
          "data": {
            "text/plain": [
              "<matplotlib.axes._subplots.AxesSubplot at 0x7f0d0ffd8710>"
            ]
          },
          "metadata": {
            "tags": []
          },
          "execution_count": 104
        },
        {
          "output_type": "display_data",
          "data": {
            "image/png": "[encoded data removed]",
            "text/plain": [
              "<Figure size 576x396 with 1 Axes>"
            ]
          },
          "metadata": {
            "tags": []
          }
        }
      ]
    },
    {
      "metadata": {
        "id": "um9jvNWLuiUK",
        "colab_type": "code",
        "outputId": "473cd4c2-3987-4405-cf1d-c125c085e563",
        "colab": {
          "base_uri": "https://localhost:8080/",
          "height": 691
        }
      },
      "cell_type": "code",
      "source": [
        "Values.cumsum()\n",
        "Values.iloc[:20].plot(kind='bar');"
      ],
      "execution_count": 105,
      "outputs": [
        {
          "output_type": "display_data",
          "data": {
            "image/png": "[encoded data removed]",
            "text/plain": [
              "<Figure size 576x396 with 1 Axes>"
            ]
          },
          "metadata": {
            "tags": []
          }
        },
        {
          "output_type": "display_data",
          "data": {
            "image/png": "[encoded data removed]",
            "text/plain": [
              "<Figure size 576x396 with 1 Axes>"
            ]
          },
          "metadata": {
            "tags": []
          }
        }
      ]
    },
    {
      "metadata": {
        "id": "7UrLQ4eVg0PF",
        "colab_type": "text"
      },
      "cell_type": "markdown",
      "source": [
        "Regressão Linear"
      ]
    },
    {
      "metadata": {
        "id": "BgWxYXBBgzs-",
        "colab_type": "code",
        "outputId": "e5c45016-ac46-4e12-d91f-bb533595e240",
        "colab": {
          "base_uri": "https://localhost:8080/",
          "height": 68
        }
      },
      "cell_type": "code",
      "source": [
        "regr = linear_model.LinearRegression()\n",
        "\n",
        "regr.fit(test_features, test_labels)\n"
      ],
      "execution_count": 106,
      "outputs": [
        {
          "output_type": "execute_result",
          "data": {
            "text/plain": [
              "LinearRegression(copy_X=True, fit_intercept=True, n_jobs=None,\n",
              "         normalize=False)"
            ]
          },
          "metadata": {
            "tags": []
          },
          "execution_count": 71
        },
        {
          "output_type": "execute_result",
          "data": {
            "text/plain": [
              "LinearRegression(copy_X=True, fit_intercept=True, n_jobs=None,\n",
              "         normalize=False)"
            ]
          },
          "metadata": {
            "tags": []
          },
          "execution_count": 106
        }
      ]
    },
    {
      "metadata": {
        "id": "N4jqaV5AtIDE",
        "colab_type": "code",
        "outputId": "cecf7650-ba4d-4120-fbaa-0d3dd924c641",
        "colab": {
          "base_uri": "https://localhost:8080/",
          "height": 51
        }
      },
      "cell_type": "code",
      "source": [
        "predict = regr.predict(test_features)\n",
        "\n",
        "# Erros absolutos\n",
        "errorss = abs(predict - test_labels)\n",
        "\n",
        "display('Erro medio: '+str(round(np.mean(errors), 2))+'$')"
      ],
      "execution_count": 107,
      "outputs": [
        {
          "output_type": "display_data",
          "data": {
            "text/plain": [
              "'Erro medio: 33.73$'"
            ]
          },
          "metadata": {
            "tags": []
          }
        },
        {
          "output_type": "display_data",
          "data": {
            "text/plain": [
              "'Erro medio: 33.73$'"
            ]
          },
          "metadata": {
            "tags": []
          }
        }
      ]
    },
    {
      "metadata": {
        "id": "5rvaROGhtBlv",
        "colab_type": "code",
        "outputId": "8f7271e6-aafb-41ee-cfad-01630eba1574",
        "colab": {
          "base_uri": "https://localhost:8080/",
          "height": 51
        }
      },
      "cell_type": "code",
      "source": [
        "# Calculate mean absolute percentage error (MAPE)\n",
        "mape = 100 * (errorss / test_labels)\n",
        "# Calculate and display accuracy\n",
        "accuracy = 100 - np.mean(mape)\n",
        "display('Accuracy: '+ str(round(accuracy, 2))+ '%.')"
      ],
      "execution_count": 108,
      "outputs": [
        {
          "output_type": "display_data",
          "data": {
            "text/plain": [
              "'Accuracy: 85.04%.'"
            ]
          },
          "metadata": {
            "tags": []
          }
        },
        {
          "output_type": "display_data",
          "data": {
            "text/plain": [
              "'Accuracy: 85.04%.'"
            ]
          },
          "metadata": {
            "tags": []
          }
        }
      ]
    },
    {
      "metadata": {
        "id": "IAI9-NXNrg1m",
        "colab_type": "code",
        "outputId": "00c4145e-2b8b-4b34-9fff-e376e6170d64",
        "colab": {
          "base_uri": "https://localhost:8080/",
          "height": 51
        }
      },
      "cell_type": "code",
      "source": [
        "display(\"RMSE: \"+ str(np.sqrt(metrics.mean_squared_error(predict, test_labels))))"
      ],
      "execution_count": 109,
      "outputs": [
        {
          "output_type": "display_data",
          "data": {
            "text/plain": [
              "'RMSE: 53.15574846824639'"
            ]
          },
          "metadata": {
            "tags": []
          }
        },
        {
          "output_type": "display_data",
          "data": {
            "text/plain": [
              "'RMSE: 53.15574846824639'"
            ]
          },
          "metadata": {
            "tags": []
          }
        }
      ]
    },
    {
      "metadata": {
        "id": "DtleMtZ5qM4A",
        "colab_type": "code",
        "outputId": "ab6009a6-5f10-4c7f-e8c1-4f518ddc3815",
        "colab": {
          "base_uri": "https://localhost:8080/",
          "height": 769
        }
      },
      "cell_type": "code",
      "source": [
        "plt.scatter(test_labels, predict)\n",
        "plt.xlabel(\"Predicted Price\")\n",
        "plt.ylabel(\"Prices\")\n",
        "plt.title(\"Prices vs Predicted Prices\")"
      ],
      "execution_count": 110,
      "outputs": [
        {
          "output_type": "execute_result",
          "data": {
            "text/plain": [
              "Text(0.5,1,'Prices vs Predicted Prices')"
            ]
          },
          "metadata": {
            "tags": []
          },
          "execution_count": 75
        },
        {
          "output_type": "display_data",
          "data": {
            "image/png": "[encoded data removed]",
            "text/plain": [
              "<Figure size 576x396 with 1 Axes>"
            ]
          },
          "metadata": {
            "tags": []
          }
        },
        {
          "output_type": "execute_result",
          "data": {
            "text/plain": [
              "Text(0.5,1,'Prices vs Predicted Prices')"
            ]
          },
          "metadata": {
            "tags": []
          },
          "execution_count": 110
        },
        {
          "output_type": "display_data",
          "data": {
            "image/png": "[encoded data removed]",
            "text/plain": [
              "<Figure size 576x396 with 1 Axes>"
            ]
          },
          "metadata": {
            "tags": []
          }
        }
      ]
    },
    {
      "metadata": {
        "id": "oWCVCxephATo",
        "colab_type": "text"
      },
      "cell_type": "markdown",
      "source": [
        "Alcançamos uma maior precisão com o Random Forest mas um menor RMSE.\n",
        "\n",
        "Pela pequena \"sample\" de GPUs que poderiamos usar, terá afetado esta precisão, muito provavelmente com um maior número de GPUs poderiamos ter obtido uma melhor precisão, mas como o nosso target era o \"Release_Price\" fomos reduzidos logo aos 600GPUs."
      ]
    }
  ]
}